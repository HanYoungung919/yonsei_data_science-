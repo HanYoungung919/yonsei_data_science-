{
 "cells": [
  {
   "cell_type": "code",
   "execution_count": 1,
   "metadata": {
    "colab": {
     "base_uri": "https://localhost:8080/"
    },
    "executionInfo": {
     "elapsed": 19085,
     "status": "ok",
     "timestamp": 1615608630565,
     "user": {
      "displayName": "‍차지수(학부학생/사회과학대학 언론홍보영상학)",
      "photoUrl": "",
      "userId": "01051544767581313229"
     },
     "user_tz": -540
    },
    "id": "rKFlb9yMKxd1",
    "outputId": "d4e104a7-eb5d-4f26-b674-30fc12281ec3"
   },
   "outputs": [
    {
     "name": "stdout",
     "output_type": "stream",
     "text": [
      "Mounted at /content/gdrive\n"
     ]
    }
   ],
   "source": [
    "from google.colab import drive\n",
    "drive.mount('/content/gdrive')"
   ]
  },
  {
   "cell_type": "code",
   "execution_count": null,
   "metadata": {
    "id": "Bwzpz7llK0-g"
   },
   "outputs": [],
   "source": [
    "from google.colab import output\n",
    "# !cp 파일1 파일2 # 파일1을 파일2로 복사 붙여넣기\n",
    "!cp \"/content/gdrive/My Drive/data/archive.zip\" \"chest_xray.zip\"\n",
    "# archive.zip을 현재 디렉터리에 압축해제\n",
    "!unzip \"chest_xray.zip\""
   ]
  },
  {
   "cell_type": "code",
   "execution_count": 3,
   "metadata": {
    "colab": {
     "base_uri": "https://localhost:8080/"
    },
    "executionInfo": {
     "elapsed": 99226,
     "status": "ok",
     "timestamp": 1615608724409,
     "user": {
      "displayName": "‍차지수(학부학생/사회과학대학 언론홍보영상학)",
      "photoUrl": "",
      "userId": "01051544767581313229"
     },
     "user_tz": -540
    },
    "id": "psC476miMx7R",
    "outputId": "bd53808f-ec2b-432e-ad91-c4b9a2e906e9"
   },
   "outputs": [
    {
     "name": "stdout",
     "output_type": "stream",
     "text": [
      "Collecting efficientnet_pytorch\n",
      "  Downloading https://files.pythonhosted.org/packages/4e/83/f9c5f44060f996279e474185ebcbd8dbd91179593bffb9abe3afa55d085b/efficientnet_pytorch-0.7.0.tar.gz\n",
      "Requirement already satisfied: torch in /usr/local/lib/python3.7/dist-packages (from efficientnet_pytorch) (1.8.0+cu101)\n",
      "Requirement already satisfied: numpy in /usr/local/lib/python3.7/dist-packages (from torch->efficientnet_pytorch) (1.19.5)\n",
      "Requirement already satisfied: typing-extensions in /usr/local/lib/python3.7/dist-packages (from torch->efficientnet_pytorch) (3.7.4.3)\n",
      "Building wheels for collected packages: efficientnet-pytorch\n",
      "  Building wheel for efficientnet-pytorch (setup.py) ... \u001b[?25l\u001b[?25hdone\n",
      "  Created wheel for efficientnet-pytorch: filename=efficientnet_pytorch-0.7.0-cp37-none-any.whl size=16031 sha256=1bac0fe20d3e74707358040633378bc5cd0cdfbed23ee85515badff60cdbbda0\n",
      "  Stored in directory: /root/.cache/pip/wheels/e9/c6/e1/7a808b26406239712cfce4b5ceeb67d9513ae32aa4b31445c6\n",
      "Successfully built efficientnet-pytorch\n",
      "Installing collected packages: efficientnet-pytorch\n",
      "Successfully installed efficientnet-pytorch-0.7.0\n",
      "Collecting torchinfo\n",
      "  Downloading https://files.pythonhosted.org/packages/4f/b1/4b310bd715885636e7174b4b52817202fff0ae3609ca2bfb17f28e33e0a1/torchinfo-0.0.8-py3-none-any.whl\n",
      "Installing collected packages: torchinfo\n",
      "Successfully installed torchinfo-0.0.8\n"
     ]
    }
   ],
   "source": [
    "!pip install efficientnet_pytorch\n",
    "!pip install torchinfo\n",
    "\n",
    "import warnings\n",
    "warnings.simplefilter(\"ignore\", UserWarning)\n",
    "\n",
    "import pandas as pd\n",
    "import numpy as np\n",
    "import matplotlib.pyplot as plt\n",
    "import cv2\n",
    "from tqdm import tqdm\n",
    "import imutils\n",
    "import zipfile\n",
    "import os\n",
    "import sys\n",
    "from PIL import Image\n",
    "import random\n",
    "\n",
    "import torch\n",
    "import torch.nn as nn\n",
    "import torch.nn.functional as F\n",
    "import torchvision.models as models\n",
    "import torchvision.transforms as T\n",
    "from torch.utils.data import DataLoader, Dataset\n",
    "from torchinfo import summary\n",
    "from google.colab import output\n",
    "from torch.autograd import Variable\n",
    "from efficientnet_pytorch import EfficientNet\n",
    "\n",
    "device = torch.device(\"cuda:0\" if torch.cuda.is_available() else \"cpu\") # 디바이스 설정\n",
    "\n",
    "from torch.utils.tensorboard import SummaryWriter\n",
    "writer = SummaryWriter()"
   ]
  },
  {
   "cell_type": "code",
   "execution_count": 4,
   "metadata": {
    "executionInfo": {
     "elapsed": 98669,
     "status": "ok",
     "timestamp": 1615608724409,
     "user": {
      "displayName": "‍차지수(학부학생/사회과학대학 언론홍보영상학)",
      "photoUrl": "",
      "userId": "01051544767581313229"
     },
     "user_tz": -540
    },
    "id": "Re6UfoZeIbIp"
   },
   "outputs": [],
   "source": [
    "mydir = './chest_xray'\n",
    "# label data 만들기\n",
    "train_normal = [i for i in os.listdir(mydir+'/train/NORMAL/') if i.endswith('.jpeg')]\n",
    "train_pneumonia = [i for i in os.listdir(mydir+'/train/PNEUMONIA/') if i.endswith('.jpeg')]\n",
    "test_normal = [i for i in os.listdir(mydir+'/test/NORMAL/') if i.endswith('.jpeg')]\n",
    "test_pneumonia = [i for i in os.listdir(mydir+'/test/PNEUMONIA/') if i.endswith('.jpeg')]\n",
    "\n",
    "\n",
    "train_normal_df = pd.DataFrame(train_normal, columns=['image'])\n",
    "train_normal_df['normal'] = 1\n",
    "train_virus_df = pd.DataFrame([i for i in train_pneumonia if 'virus' in i], columns=['image'])\n",
    "train_virus_df['virus'] = 1\n",
    "train_bacteria_df = pd.DataFrame([i for i in train_pneumonia if 'bacteria' in i], columns=['image'])\n",
    "train_bacteria_df['bacteria'] = 1\n",
    "train_label = pd.concat([train_normal_df, train_virus_df, train_bacteria_df])\n",
    "train_label = train_label.fillna(0)\n",
    "\n",
    "\n",
    "test_normal_df = pd.DataFrame(test_normal, columns=['image'])\n",
    "test_normal_df['normal'] = 1\n",
    "test_virus_df = pd.DataFrame([i for i in test_pneumonia if 'virus' in i], columns=['image'])\n",
    "test_virus_df['virus'] = 1\n",
    "test_bacteria_df = pd.DataFrame([i for i in test_pneumonia if 'bacteria' in i], columns=['image'])\n",
    "test_bacteria_df['bacteria'] = 1\n",
    "test_label = pd.concat([test_normal_df, test_virus_df, test_bacteria_df])\n",
    "test_label = test_label.fillna(0)"
   ]
  },
  {
   "cell_type": "code",
   "execution_count": 5,
   "metadata": {
    "executionInfo": {
     "elapsed": 96667,
     "status": "ok",
     "timestamp": 1615608725159,
     "user": {
      "displayName": "‍차지수(학부학생/사회과학대학 언론홍보영상학)",
      "photoUrl": "",
      "userId": "01051544767581313229"
     },
     "user_tz": -540
    },
    "id": "wghBd-bvXffF"
   },
   "outputs": [],
   "source": [
    "# 각 폴더내의 파일들을 상위 폴더로 이동\n",
    "!mv \"./chest_xray/train/NORMAL\"/* \"./chest_xray/train/\"\n",
    "!mv \"./chest_xray/train/PNEUMONIA\"/* \"./chest_xray/train/\"\n",
    "\n",
    "!mv \"./chest_xray/test/NORMAL\"/* \"./chest_xray/test/\"\n",
    "!mv \"./chest_xray/test/PNEUMONIA\"/* \"./chest_xray/test/\"\n",
    "\n",
    "# normal이 1, pneumonia가 0으로 되어 있으니 반대로 변경\n",
    "tempdic = {1:0,0:1}\n",
    "train_label = train_label.iloc[:,:2].replace({'normal':tempdic})\n",
    "test_label = test_label.iloc[:,:2].replace({'normal':tempdic})"
   ]
  },
  {
   "cell_type": "code",
   "execution_count": 18,
   "metadata": {
    "executionInfo": {
     "elapsed": 984,
     "status": "ok",
     "timestamp": 1615614279801,
     "user": {
      "displayName": "‍차지수(학부학생/사회과학대학 언론홍보영상학)",
      "photoUrl": "",
      "userId": "01051544767581313229"
     },
     "user_tz": -540
    },
    "id": "FvhFRyqZS2CB"
   },
   "outputs": [],
   "source": [
    "# 디렉터리 속에 들어있는 파일들의 이름을 \n",
    "# namelist라는 변수에 저장\n",
    "namelist = os.listdir(mydir+'/train/')\n",
    "\n",
    "# numpy를 tensor로 변환하는 ToTensor 정의\n",
    "# class ToTensor(object):\n",
    "#     \"\"\"numpy array를 tensor(torch)로 변환합니다.\"\"\"\n",
    "#     def __call__(self, image):\n",
    "\n",
    "#         return torch.FloatTensor(image)\n",
    "\n",
    "# to_tensor 선언\n",
    "to_tensor = T.Compose([\n",
    "                       # 이미지 사이즈를 (224,224)로 변경\n",
    "                       T.Resize((224,224)),\n",
    "                       # 0.5의 확률로 수평 반전\n",
    "                       T.RandomHorizontalFlip(p=0.5),\n",
    "                       # 15도 랜덤 회전\n",
    "                       # x,y 각각 0.15만큼 랜덤 translate, +-15% 랜덤 zoom, random shear\n",
    "                       T.RandomAffine(degrees=15,translate=(0.15,0.15),scale=(0.85,1.15),shear=0.15),\n",
    "                       T.ToTensor(),\n",
    "                       T.Normalize((0.4452, 0.4457, 0.4464), (0.2592, 0.2596, 0.2600))\n",
    "    ])\n",
    "\n",
    "class DatasetMNIST(torch.utils.data.Dataset):\n",
    "    def __init__(self,\n",
    "                 dir_path,\n",
    "                 meta_df,\n",
    "                 transforms=to_tensor,#미리 선언한 to_tensor를 transforms로 받음\n",
    "                 augmentations=None):\n",
    "        \n",
    "        self.dir_path = dir_path # 데이터의 이미지가 저장된 디렉터리 경로\n",
    "        self.meta_df = meta_df # 데이터의 인덱스와 정답지가 들어있는 DataFrame\n",
    "\n",
    "        self.transforms = transforms# Transform\n",
    "        self.augmentations = augmentations # Augmentation\n",
    "        \n",
    "    def __len__(self):\n",
    "        return len(self.meta_df)\n",
    "    \n",
    "    def __getitem__(self, index):\n",
    "        # 폴더 경로 + 이미지 이름  => 파일의 경로\n",
    "        \n",
    "        image = cv2.imread(self.dir_path +\\\n",
    "                           str(self.meta_df.iloc[index,0]),\n",
    "                           cv2.IMREAD_COLOR)\n",
    "        \n",
    "        # 각 픽셀의 값을 255로 나누어줌-> 0,1 사이로 맞춰준다.\n",
    "        # torch tensor로 만들기 위해 transpose\n",
    "        # image = image.transpose((2, 0, 1))\n",
    "        image = Image.fromarray(image)\n",
    "        # 정답 numpy array생성(존재하면 1 없으면 0)\n",
    "        label = self.meta_df.iloc[index, 1:].values.astype('float')\n",
    "        \n",
    "        # transform 적용\n",
    "        # numpy to tensor\n",
    "        if self.transforms:\n",
    "            image = self.transforms(image)\n",
    "            label = torch.FloatTensor(label)\n",
    "        \n",
    "        sample = {'image': image, 'label': label}\n",
    "\n",
    "        # sample 반환\n",
    "        return sample"
   ]
  },
  {
   "cell_type": "code",
   "execution_count": 19,
   "metadata": {
    "executionInfo": {
     "elapsed": 934,
     "status": "ok",
     "timestamp": 1615614283172,
     "user": {
      "displayName": "‍차지수(학부학생/사회과학대학 언론홍보영상학)",
      "photoUrl": "",
      "userId": "01051544767581313229"
     },
     "user_tz": -540
    },
    "id": "vpoKu3DHXlNh"
   },
   "outputs": [],
   "source": [
    "# test용 dataset 전처리\n",
    "\n",
    "to_tensor_test = T.Compose([\n",
    "                       T.Resize((224,224)),\n",
    "                       T.ToTensor(),\n",
    "                       T.Normalize((0.4452, 0.4457, 0.4464), (0.2592, 0.2596, 0.2600))\n",
    "    ])\n",
    "\n",
    "\n",
    "class DatasetMNIST_test(torch.utils.data.Dataset):\n",
    "    def __init__(self,\n",
    "                 dir_path,\n",
    "                 meta_df,\n",
    "                 transforms=to_tensor_test,#미리 선언한 to_tensor를 transforms로 받음\n",
    "                 augmentations=None):\n",
    "        \n",
    "        self.dir_path = dir_path # 데이터의 이미지가 저장된 디렉터리 경로\n",
    "        self.meta_df = meta_df # 데이터의 인덱스와 정답지가 들어있는 DataFrame\n",
    "\n",
    "        self.transforms = transforms# Transform\n",
    "        self.augmentations = augmentations # Augmentation\n",
    "        \n",
    "    def __len__(self):\n",
    "        return len(self.meta_df)\n",
    "    \n",
    "    def __getitem__(self, index):\n",
    "        # 폴더 경로 + 이미지 이름  => 파일의 경로\n",
    "        \n",
    "        image = cv2.imread(self.dir_path +\\\n",
    "                           str(self.meta_df.iloc[index,0]),\n",
    "                           cv2.IMREAD_COLOR)\n",
    "        \n",
    "        # image = (image/255).astype('float')\n",
    "        # image = image.transpose((2, 0, 1))\n",
    "        image = Image.fromarray(image)\n",
    "        # image = torch.FloatTensor(image)\n",
    "        # 정답 numpy array생성(존재하면 1 없으면 0)\n",
    "        label = self.meta_df.iloc[index, 1:].values.astype('float')\n",
    "        \n",
    "        # transform 적용\n",
    "        # numpy to tensor\n",
    "        if self.transforms:\n",
    "            image = self.transforms(image)\n",
    "            label = torch.FloatTensor(label)\n",
    "        \n",
    "        sample = {'image': image, 'label': label}\n",
    "\n",
    "        # sample 반환\n",
    "        return sample"
   ]
  },
  {
   "cell_type": "code",
   "execution_count": 63,
   "metadata": {
    "colab": {
     "base_uri": "https://localhost:8080/"
    },
    "executionInfo": {
     "elapsed": 2215,
     "status": "ok",
     "timestamp": 1615631576040,
     "user": {
      "displayName": "‍차지수(학부학생/사회과학대학 언론홍보영상학)",
      "photoUrl": "",
      "userId": "01051544767581313229"
     },
     "user_tz": -540
    },
    "id": "2cuC-X1IjC30",
    "outputId": "73bfb9db-eaa2-472d-87a6-4e8413056eb0"
   },
   "outputs": [
    {
     "data": {
      "text/plain": [
       "==========================================================================================\n",
       "Layer (type:depth-idx)                   Output Shape              Param #\n",
       "==========================================================================================\n",
       "├─VGG: 1-1                               [8, 1000]                 --\n",
       "|    └─Sequential: 2-1                   [8, 512, 7, 7]            --\n",
       "|    |    └─Conv2d: 3-1                  [8, 64, 224, 224]         1,792\n",
       "|    |    └─ReLU: 3-2                    [8, 64, 224, 224]         --\n",
       "|    |    └─Conv2d: 3-3                  [8, 64, 224, 224]         36,928\n",
       "|    |    └─ReLU: 3-4                    [8, 64, 224, 224]         --\n",
       "|    |    └─MaxPool2d: 3-5               [8, 64, 112, 112]         --\n",
       "|    |    └─Conv2d: 3-6                  [8, 128, 112, 112]        73,856\n",
       "|    |    └─ReLU: 3-7                    [8, 128, 112, 112]        --\n",
       "|    |    └─Conv2d: 3-8                  [8, 128, 112, 112]        147,584\n",
       "|    |    └─ReLU: 3-9                    [8, 128, 112, 112]        --\n",
       "|    |    └─MaxPool2d: 3-10              [8, 128, 56, 56]          --\n",
       "|    |    └─Conv2d: 3-11                 [8, 256, 56, 56]          295,168\n",
       "|    |    └─ReLU: 3-12                   [8, 256, 56, 56]          --\n",
       "|    |    └─Conv2d: 3-13                 [8, 256, 56, 56]          590,080\n",
       "|    |    └─ReLU: 3-14                   [8, 256, 56, 56]          --\n",
       "|    |    └─Conv2d: 3-15                 [8, 256, 56, 56]          590,080\n",
       "|    |    └─ReLU: 3-16                   [8, 256, 56, 56]          --\n",
       "|    |    └─MaxPool2d: 3-17              [8, 256, 28, 28]          --\n",
       "|    |    └─Conv2d: 3-18                 [8, 512, 28, 28]          1,180,160\n",
       "|    |    └─ReLU: 3-19                   [8, 512, 28, 28]          --\n",
       "|    |    └─Conv2d: 3-20                 [8, 512, 28, 28]          2,359,808\n",
       "|    |    └─ReLU: 3-21                   [8, 512, 28, 28]          --\n",
       "|    |    └─Conv2d: 3-22                 [8, 512, 28, 28]          2,359,808\n",
       "|    |    └─ReLU: 3-23                   [8, 512, 28, 28]          --\n",
       "|    |    └─MaxPool2d: 3-24              [8, 512, 14, 14]          --\n",
       "|    |    └─Conv2d: 3-25                 [8, 512, 14, 14]          2,359,808\n",
       "|    |    └─ReLU: 3-26                   [8, 512, 14, 14]          --\n",
       "|    |    └─Conv2d: 3-27                 [8, 512, 14, 14]          2,359,808\n",
       "|    |    └─ReLU: 3-28                   [8, 512, 14, 14]          --\n",
       "|    |    └─Conv2d: 3-29                 [8, 512, 14, 14]          2,359,808\n",
       "|    |    └─ReLU: 3-30                   [8, 512, 14, 14]          --\n",
       "|    |    └─MaxPool2d: 3-31              [8, 512, 7, 7]            --\n",
       "|    └─AdaptiveAvgPool2d: 2-2            [8, 512, 7, 7]            --\n",
       "|    └─Sequential: 2-3                   [8, 1000]                 --\n",
       "|    |    └─Linear: 3-32                 [8, 4096]                 102,764,544\n",
       "|    |    └─ReLU: 3-33                   [8, 4096]                 --\n",
       "|    |    └─Dropout: 3-34                [8, 4096]                 --\n",
       "|    |    └─Linear: 3-35                 [8, 4096]                 16,781,312\n",
       "|    |    └─ReLU: 3-36                   [8, 4096]                 --\n",
       "|    |    └─Dropout: 3-37                [8, 4096]                 --\n",
       "|    |    └─Linear: 3-38                 [8, 1000]                 4,097,000\n",
       "├─Linear: 1-2                            [8, 1]                    1,001\n",
       "==========================================================================================\n",
       "Total params: 138,358,545\n",
       "Trainable params: 138,358,545\n",
       "Non-trainable params: 0\n",
       "Total mult-adds (G): 15.75\n",
       "==========================================================================================\n",
       "Input size (MB): 4.82\n",
       "Forward/backward pass size (MB): 867.63\n",
       "Params size (MB): 553.43\n",
       "Estimated Total Size (MB): 1425.88\n",
       "=========================================================================================="
      ]
     },
     "execution_count": 63,
     "metadata": {
      "tags": []
     },
     "output_type": "execute_result"
    }
   ],
   "source": [
    "# nn.Module을 상속 받아 Net를 정의\n",
    "class Net(nn.Module):\n",
    "    def __init__(self):\n",
    "        super(Net, self).__init__()\n",
    "        # self.conv2d = nn.Conv2d(1, 3, 3, stride=1)\n",
    "        self.vggnet = models.vgg16(pretrained=True)\n",
    "        self.FC = nn.Linear(1000, 1)\n",
    "\n",
    "    def forward(self, x):\n",
    "        # resnet의 입력은 [3, N, N]으로\n",
    "        # 3개의 채널을 갖기 때문에\n",
    "        # resnet 입력 전에 conv2d를 한 층 추가\n",
    "        # x = F.relu(self.conv2d(x))\n",
    "\n",
    "        # resnet18을 추가\n",
    "        x = F.relu(self.vggnet(x))\n",
    "\n",
    "        # softmax가 아닌 sigmoid를 적용\n",
    "        x = torch.sigmoid(self.FC(x))\n",
    "        return x\n",
    "# 모델 선언\n",
    "model = Net()\n",
    "summary(model, input_size=(8,3,224,224))"
   ]
  },
  {
   "cell_type": "code",
   "execution_count": 61,
   "metadata": {
    "colab": {
     "base_uri": "https://localhost:8080/"
    },
    "executionInfo": {
     "elapsed": 1077,
     "status": "ok",
     "timestamp": 1615631021210,
     "user": {
      "displayName": "‍차지수(학부학생/사회과학대학 언론홍보영상학)",
      "photoUrl": "",
      "userId": "01051544767581313229"
     },
     "user_tz": -540
    },
    "id": "g2FI3GUNlfyO",
    "outputId": "3ad6f608-54f7-4d33-d168-84f2bb4c41d2"
   },
   "outputs": [
    {
     "name": "stdout",
     "output_type": "stream",
     "text": [
      "Loaded pretrained weights for efficientnet-b0\n"
     ]
    },
    {
     "data": {
      "text/plain": [
       "=========================================================================================================\n",
       "Layer (type:depth-idx)                                  Output Shape              Param #\n",
       "=========================================================================================================\n",
       "├─EfficientNet: 1-1                                     [8, 1000]                 --\n",
       "|    └─Conv2dStaticSamePadding: 2-1                     [8, 32, 112, 112]         --\n",
       "|    |    └─ZeroPad2d: 3-1                              [8, 3, 226, 226]          --\n",
       "|    └─BatchNorm2d: 2-2                                 [8, 32, 112, 112]         64\n",
       "|    └─MemoryEfficientSwish: 2-3                        [8, 32, 112, 112]         --\n",
       "|    └─ModuleList: 2                                    []                        --\n",
       "|    |    └─MBConvBlock: 3-2                            [8, 16, 112, 112]         1,448\n",
       "|    |    └─MBConvBlock: 3-3                            [8, 24, 56, 56]           6,004\n",
       "|    |    └─MBConvBlock: 3-4                            [8, 24, 56, 56]           10,710\n",
       "|    |    └─MBConvBlock: 3-5                            [8, 40, 28, 28]           15,350\n",
       "|    |    └─MBConvBlock: 3-6                            [8, 40, 28, 28]           31,290\n",
       "|    |    └─MBConvBlock: 3-7                            [8, 80, 14, 14]           37,130\n",
       "|    |    └─MBConvBlock: 3-8                            [8, 80, 14, 14]           102,900\n",
       "|    |    └─MBConvBlock: 3-9                            [8, 80, 14, 14]           102,900\n",
       "|    |    └─MBConvBlock: 3-10                           [8, 112, 14, 14]          126,004\n",
       "|    |    └─MBConvBlock: 3-11                           [8, 112, 14, 14]          208,572\n",
       "|    |    └─MBConvBlock: 3-12                           [8, 112, 14, 14]          208,572\n",
       "|    |    └─MBConvBlock: 3-13                           [8, 192, 7, 7]            262,492\n",
       "|    |    └─MBConvBlock: 3-14                           [8, 192, 7, 7]            587,952\n",
       "|    |    └─MBConvBlock: 3-15                           [8, 192, 7, 7]            587,952\n",
       "|    |    └─MBConvBlock: 3-16                           [8, 192, 7, 7]            587,952\n",
       "|    |    └─MBConvBlock: 3-17                           [8, 320, 7, 7]            717,232\n",
       "|    └─Conv2dStaticSamePadding: 2-4                     [8, 1280, 7, 7]           --\n",
       "|    |    └─Identity: 3-18                              [8, 320, 7, 7]            --\n",
       "|    └─BatchNorm2d: 2-5                                 [8, 1280, 7, 7]           2,560\n",
       "|    └─MemoryEfficientSwish: 2-6                        [8, 1280, 7, 7]           --\n",
       "|    └─AdaptiveAvgPool2d: 2-7                           [8, 1280, 1, 1]           --\n",
       "|    └─Dropout: 2-8                                     [8, 1280]                 --\n",
       "|    └─Linear: 2-9                                      [8, 1000]                 1,281,000\n",
       "├─Linear: 1-2                                           [8, 1]                    1,001\n",
       "=========================================================================================================\n",
       "Total params: 4,879,085\n",
       "Trainable params: 4,879,085\n",
       "Non-trainable params: 0\n",
       "Total mult-adds (M): 394.66\n",
       "=========================================================================================================\n",
       "Input size (MB): 4.82\n",
       "Forward/backward pass size (MB): 431.28\n",
       "Params size (MB): 19.52\n",
       "Estimated Total Size (MB): 455.61\n",
       "========================================================================================================="
      ]
     },
     "execution_count": 61,
     "metadata": {
      "tags": []
     },
     "output_type": "execute_result"
    }
   ],
   "source": [
    "# nn.Module을 상속 받아 Net를 정의\n",
    "class Net(nn.Module):\n",
    "    def __init__(self):\n",
    "        super(Net, self).__init__()\n",
    "        # self.conv2d = nn.Conv2d(1, 3, 3, stride=1)\n",
    "        self.effnet = EfficientNet.from_pretrained(model_name='efficientnet-b0')\n",
    "        self.FC = nn.Linear(1000, 1)\n",
    "\n",
    "    def forward(self, x):\n",
    "        # resnet의 입력은 [3, N, N]으로\n",
    "        # 3개의 채널을 갖기 때문에\n",
    "        # resnet 입력 전에 conv2d를 한 층 추가\n",
    "        # x = F.relu(self.conv2d(x))\n",
    "\n",
    "        # resnet18을 추가\n",
    "        x = F.relu(self.effnet(x))\n",
    "\n",
    "        # softmax가 아닌 sigmoid를 적용\n",
    "        x = torch.sigmoid(self.FC(x))\n",
    "        return x\n",
    "# 모델 선언\n",
    "model = Net()\n",
    "summary(model, input_size=(8,3,224,224))"
   ]
  },
  {
   "cell_type": "code",
   "execution_count": 9,
   "metadata": {
    "colab": {
     "base_uri": "https://localhost:8080/"
    },
    "executionInfo": {
     "elapsed": 81522,
     "status": "ok",
     "timestamp": 1615608732959,
     "user": {
      "displayName": "‍차지수(학부학생/사회과학대학 언론홍보영상학)",
      "photoUrl": "",
      "userId": "01051544767581313229"
     },
     "user_tz": -540
    },
    "id": "MFGFhkCxmUDb",
    "outputId": "19a6cab8-9142-41f5-dd65-42b41ffdb15b"
   },
   "outputs": [
    {
     "name": "stdout",
     "output_type": "stream",
     "text": [
      "Weight for class 0: 1.94\n",
      "Weight for class 1: 0.67\n"
     ]
    }
   ],
   "source": [
    "# label imbalance에 따른 class weight 적용\n",
    "\n",
    "from collections import Counter\n",
    "Counter(train_label['normal'])\n",
    "TRAIN_IMG_COUNT = len(train_label)\n",
    "COUNT_NORMAL = len(train_label[train_label['normal']==0])\n",
    "COUNT_PNEUMONIA = len(train_label[train_label['normal']==1])\n",
    "\n",
    "weight_for_0 = (1 / COUNT_NORMAL)*(TRAIN_IMG_COUNT)/2.0 \n",
    "weight_for_1 = (1 / COUNT_PNEUMONIA)*(TRAIN_IMG_COUNT)/2.0\n",
    "\n",
    "class_weight = torch.Tensor([weight_for_0, weight_for_1])\n",
    "\n",
    "print('Weight for class 0: {:.2f}'.format(weight_for_0))\n",
    "print('Weight for class 1: {:.2f}'.format(weight_for_1))"
   ]
  },
  {
   "cell_type": "code",
   "execution_count": 46,
   "metadata": {
    "executionInfo": {
     "elapsed": 845,
     "status": "ok",
     "timestamp": 1615625967933,
     "user": {
      "displayName": "‍차지수(학부학생/사회과학대학 언론홍보영상학)",
      "photoUrl": "",
      "userId": "01051544767581313229"
     },
     "user_tz": -540
    },
    "id": "h3ltOgWXwb5P"
   },
   "outputs": [],
   "source": [
    "# image mixup, label mixup 정의\n",
    "\n",
    "def mixup_data(x, y, alpha=1.0, use_cuda=True):\n",
    "    '''Returns mixed inputs, pairs of targets, and lambda'''\n",
    "    if alpha > 0:\n",
    "        lam = np.random.beta(alpha, alpha)\n",
    "    else:\n",
    "        lam = 1\n",
    "\n",
    "    batch_size = x.size()[0]\n",
    "    if use_cuda:\n",
    "        index = torch.randperm(batch_size).cuda()\n",
    "    else:\n",
    "        index = torch.randperm(batch_size)\n",
    "\n",
    "    mixed_x = lam * x + (1 - lam) * x[index, :]\n",
    "    y_a, y_b = y, y[index]\n",
    "    return mixed_x, y_a, y_b, lam\n",
    "\n",
    "def mixup_criterion(criterion, pred, y_a, y_b, lam):\n",
    "    return lam * criterion(pred, y_a) + (1 - lam) * criterion(pred, y_b)\n",
    "\n",
    "# fix random seed\n",
    "def seed_everything(seed: int = 42):\n",
    "    random.seed(seed)\n",
    "    np.random.seed(seed)\n",
    "    os.environ[\"PYTHONHASHSEED\"] = str(seed)\n",
    "    torch.manual_seed(seed)\n",
    "    torch.cuda.manual_seed(seed)  # type: ignore\n",
    "    torch.backends.cudnn.deterministic = True  # type: ignore\n",
    "    torch.backends.cudnn.benchmark = True  # type: ignore"
   ]
  },
  {
   "cell_type": "code",
   "execution_count": 64,
   "metadata": {
    "colab": {
     "base_uri": "https://localhost:8080/"
    },
    "executionInfo": {
     "elapsed": 3602332,
     "status": "ok",
     "timestamp": 1615635191536,
     "user": {
      "displayName": "‍차지수(학부학생/사회과학대학 언론홍보영상학)",
      "photoUrl": "",
      "userId": "01051544767581313229"
     },
     "user_tz": -540
    },
    "id": "ypw9V8lbfR5C",
    "outputId": "6764df2d-14f6-4c91-e0a5-e3f0852ff7e8"
   },
   "outputs": [
    {
     "name": "stdout",
     "output_type": "stream",
     "text": [
      "[fold: 1]\n"
     ]
    },
    {
     "name": "stderr",
     "output_type": "stream",
     "text": [
      "\r",
      "  0%|          | 0/522 [00:00<?, ?batch/s]"
     ]
    },
    {
     "name": "stdout",
     "output_type": "stream",
     "text": [
      "Adjusting learning rate of group 0 to 1.0000e-03.\n"
     ]
    },
    {
     "name": "stderr",
     "output_type": "stream",
     "text": [
      "Train Epoch 0: 100%|██████████| 522/522 [00:57<00:00,  9.04batch/s, train_acc=0.875, train_loss=0.442]\n",
      "Valid Epoch 0: 100%|██████████| 131/131 [00:13<00:00,  9.57batch/s, valid_acc=0.918, valid_loss=0.275]\n"
     ]
    },
    {
     "name": "stdout",
     "output_type": "stream",
     "text": [
      "Adjusting learning rate of group 0 to 9.9000e-04.\n"
     ]
    },
    {
     "name": "stderr",
     "output_type": "stream",
     "text": [
      "Train Epoch 1: 100%|██████████| 522/522 [00:57<00:00,  9.07batch/s, train_acc=0.949, train_loss=0.116]\n",
      "Valid Epoch 1: 100%|██████████| 131/131 [00:13<00:00,  9.94batch/s, valid_acc=0.843, valid_loss=0.226]\n",
      "  0%|          | 0/522 [00:00<?, ?batch/s]"
     ]
    },
    {
     "name": "stdout",
     "output_type": "stream",
     "text": [
      "Adjusting learning rate of group 0 to 9.8010e-04.\n"
     ]
    },
    {
     "name": "stderr",
     "output_type": "stream",
     "text": [
      "Train Epoch 2: 100%|██████████| 522/522 [00:57<00:00,  9.02batch/s, train_acc=0.961, train_loss=0.306]\n",
      "Valid Epoch 2: 100%|██████████| 131/131 [00:13<00:00,  9.90batch/s, valid_acc=0.946, valid_loss=0.00426]\n"
     ]
    },
    {
     "name": "stdout",
     "output_type": "stream",
     "text": [
      "Adjusting learning rate of group 0 to 9.7030e-04.\n"
     ]
    },
    {
     "name": "stderr",
     "output_type": "stream",
     "text": [
      "Train Epoch 3: 100%|██████████| 522/522 [00:57<00:00,  9.02batch/s, train_acc=0.975, train_loss=0.00164]\n",
      "Valid Epoch 3: 100%|██████████| 131/131 [00:13<00:00,  9.84batch/s, valid_acc=0.943, valid_loss=0.00384]\n",
      "  0%|          | 0/522 [00:00<?, ?batch/s]"
     ]
    },
    {
     "name": "stdout",
     "output_type": "stream",
     "text": [
      "Adjusting learning rate of group 0 to 9.6060e-04.\n"
     ]
    },
    {
     "name": "stderr",
     "output_type": "stream",
     "text": [
      "Train Epoch 4: 100%|██████████| 522/522 [00:57<00:00,  9.08batch/s, train_acc=0.972, train_loss=0.0951]\n",
      "Valid Epoch 4: 100%|██████████| 131/131 [00:13<00:00,  9.92batch/s, valid_acc=0.965, valid_loss=0.000339]\n"
     ]
    },
    {
     "name": "stdout",
     "output_type": "stream",
     "text": [
      "Adjusting learning rate of group 0 to 9.5099e-04.\n"
     ]
    },
    {
     "name": "stderr",
     "output_type": "stream",
     "text": [
      "Train Epoch 5: 100%|██████████| 522/522 [00:57<00:00,  9.10batch/s, train_acc=0.974, train_loss=0.000234]\n",
      "Valid Epoch 5: 100%|██████████| 131/131 [00:13<00:00,  9.81batch/s, valid_acc=0.944, valid_loss=0.233]\n",
      "  0%|          | 0/522 [00:00<?, ?batch/s]"
     ]
    },
    {
     "name": "stdout",
     "output_type": "stream",
     "text": [
      "Adjusting learning rate of group 0 to 9.4148e-04.\n"
     ]
    },
    {
     "name": "stderr",
     "output_type": "stream",
     "text": [
      "Train Epoch 6: 100%|██████████| 522/522 [00:56<00:00,  9.19batch/s, train_acc=0.98, train_loss=0.0525]\n",
      "Valid Epoch 6: 100%|██████████| 131/131 [00:13<00:00,  9.87batch/s, valid_acc=0.963, valid_loss=0.438]\n",
      "  0%|          | 0/522 [00:00<?, ?batch/s]"
     ]
    },
    {
     "name": "stdout",
     "output_type": "stream",
     "text": [
      "Adjusting learning rate of group 0 to 9.3207e-04.\n"
     ]
    },
    {
     "name": "stderr",
     "output_type": "stream",
     "text": [
      "Train Epoch 7: 100%|██████████| 522/522 [00:57<00:00,  9.13batch/s, train_acc=0.983, train_loss=0.109]\n",
      "Valid Epoch 7: 100%|██████████| 131/131 [00:13<00:00,  9.93batch/s, valid_acc=0.969, valid_loss=0.0415]\n"
     ]
    },
    {
     "name": "stdout",
     "output_type": "stream",
     "text": [
      "Adjusting learning rate of group 0 to 9.2274e-04.\n"
     ]
    },
    {
     "name": "stderr",
     "output_type": "stream",
     "text": [
      "Train Epoch 8: 100%|██████████| 522/522 [00:57<00:00,  9.04batch/s, train_acc=0.981, train_loss=0.0014]\n",
      "Valid Epoch 8: 100%|██████████| 131/131 [00:13<00:00,  9.94batch/s, valid_acc=0.954, valid_loss=0.0997]\n",
      "  0%|          | 0/522 [00:00<?, ?batch/s]"
     ]
    },
    {
     "name": "stdout",
     "output_type": "stream",
     "text": [
      "Adjusting learning rate of group 0 to 9.1352e-04.\n"
     ]
    },
    {
     "name": "stderr",
     "output_type": "stream",
     "text": [
      "Train Epoch 9: 100%|██████████| 522/522 [00:57<00:00,  9.10batch/s, train_acc=0.982, train_loss=0.00286]\n",
      "Valid Epoch 9: 100%|██████████| 131/131 [00:12<00:00, 10.09batch/s, valid_acc=0.983, valid_loss=0.147]\n"
     ]
    },
    {
     "name": "stdout",
     "output_type": "stream",
     "text": [
      "Adjusting learning rate of group 0 to 9.0438e-04.\n",
      "[fold: 2]\n"
     ]
    },
    {
     "name": "stderr",
     "output_type": "stream",
     "text": [
      "\r",
      "  0%|          | 0/522 [00:00<?, ?batch/s]"
     ]
    },
    {
     "name": "stdout",
     "output_type": "stream",
     "text": [
      "Adjusting learning rate of group 0 to 1.0000e-03.\n"
     ]
    },
    {
     "name": "stderr",
     "output_type": "stream",
     "text": [
      "Train Epoch 0: 100%|██████████| 522/522 [00:57<00:00,  9.04batch/s, train_acc=0.906, train_loss=0.161]\n",
      "Valid Epoch 0: 100%|██████████| 131/131 [00:12<00:00, 10.15batch/s, valid_acc=0.84, valid_loss=0.00203]\n"
     ]
    },
    {
     "name": "stdout",
     "output_type": "stream",
     "text": [
      "Adjusting learning rate of group 0 to 9.9000e-04.\n"
     ]
    },
    {
     "name": "stderr",
     "output_type": "stream",
     "text": [
      "Train Epoch 1: 100%|██████████| 522/522 [00:57<00:00,  9.03batch/s, train_acc=0.951, train_loss=0.0441]\n",
      "Valid Epoch 1: 100%|██████████| 131/131 [00:13<00:00,  9.82batch/s, valid_acc=0.916, valid_loss=0.0858]\n"
     ]
    },
    {
     "name": "stdout",
     "output_type": "stream",
     "text": [
      "Adjusting learning rate of group 0 to 9.8010e-04.\n"
     ]
    },
    {
     "name": "stderr",
     "output_type": "stream",
     "text": [
      "Train Epoch 2: 100%|██████████| 522/522 [00:58<00:00,  8.91batch/s, train_acc=0.963, train_loss=0.0505]\n",
      "Valid Epoch 2: 100%|██████████| 131/131 [00:13<00:00, 10.04batch/s, valid_acc=0.956, valid_loss=0.083]\n"
     ]
    },
    {
     "name": "stdout",
     "output_type": "stream",
     "text": [
      "Adjusting learning rate of group 0 to 9.7030e-04.\n"
     ]
    },
    {
     "name": "stderr",
     "output_type": "stream",
     "text": [
      "Train Epoch 3: 100%|██████████| 522/522 [00:56<00:00,  9.21batch/s, train_acc=0.972, train_loss=0.00637]\n",
      "Valid Epoch 3: 100%|██████████| 131/131 [00:12<00:00, 10.44batch/s, valid_acc=0.976, valid_loss=0.0149]\n"
     ]
    },
    {
     "name": "stdout",
     "output_type": "stream",
     "text": [
      "Adjusting learning rate of group 0 to 9.6060e-04.\n"
     ]
    },
    {
     "name": "stderr",
     "output_type": "stream",
     "text": [
      "Train Epoch 4: 100%|██████████| 522/522 [00:56<00:00,  9.20batch/s, train_acc=0.971, train_loss=0.157]\n",
      "Valid Epoch 4: 100%|██████████| 131/131 [00:12<00:00, 10.25batch/s, valid_acc=0.944, valid_loss=0.00906]\n",
      "  0%|          | 0/522 [00:00<?, ?batch/s]"
     ]
    },
    {
     "name": "stdout",
     "output_type": "stream",
     "text": [
      "Adjusting learning rate of group 0 to 9.5099e-04.\n"
     ]
    },
    {
     "name": "stderr",
     "output_type": "stream",
     "text": [
      "Train Epoch 5: 100%|██████████| 522/522 [00:56<00:00,  9.26batch/s, train_acc=0.978, train_loss=2.25]\n",
      "Valid Epoch 5: 100%|██████████| 131/131 [00:12<00:00, 10.17batch/s, valid_acc=0.974, valid_loss=0.000712]\n",
      "  0%|          | 0/522 [00:00<?, ?batch/s]"
     ]
    },
    {
     "name": "stdout",
     "output_type": "stream",
     "text": [
      "Adjusting learning rate of group 0 to 9.4148e-04.\n"
     ]
    },
    {
     "name": "stderr",
     "output_type": "stream",
     "text": [
      "Train Epoch 6: 100%|██████████| 522/522 [00:56<00:00,  9.23batch/s, train_acc=0.977, train_loss=0.0846]\n",
      "Valid Epoch 6: 100%|██████████| 131/131 [00:13<00:00, 10.07batch/s, valid_acc=0.979, valid_loss=0.00985]\n"
     ]
    },
    {
     "name": "stdout",
     "output_type": "stream",
     "text": [
      "Adjusting learning rate of group 0 to 9.3207e-04.\n"
     ]
    },
    {
     "name": "stderr",
     "output_type": "stream",
     "text": [
      "Train Epoch 7: 100%|██████████| 522/522 [00:56<00:00,  9.16batch/s, train_acc=0.979, train_loss=0.13]\n",
      "Valid Epoch 7: 100%|██████████| 131/131 [00:12<00:00, 10.26batch/s, valid_acc=0.977, valid_loss=1.08e-5]\n",
      "  0%|          | 0/522 [00:00<?, ?batch/s]"
     ]
    },
    {
     "name": "stdout",
     "output_type": "stream",
     "text": [
      "Adjusting learning rate of group 0 to 9.2274e-04.\n"
     ]
    },
    {
     "name": "stderr",
     "output_type": "stream",
     "text": [
      "Train Epoch 8: 100%|██████████| 522/522 [00:56<00:00,  9.21batch/s, train_acc=0.978, train_loss=0.0187]\n",
      "Valid Epoch 8: 100%|██████████| 131/131 [00:13<00:00,  9.91batch/s, valid_acc=0.906, valid_loss=0.122]\n",
      "  0%|          | 0/522 [00:00<?, ?batch/s]"
     ]
    },
    {
     "name": "stdout",
     "output_type": "stream",
     "text": [
      "Adjusting learning rate of group 0 to 9.1352e-04.\n"
     ]
    },
    {
     "name": "stderr",
     "output_type": "stream",
     "text": [
      "Train Epoch 9: 100%|██████████| 522/522 [00:56<00:00,  9.19batch/s, train_acc=0.986, train_loss=0.00369]\n",
      "Valid Epoch 9: 100%|██████████| 131/131 [00:12<00:00, 10.10batch/s, valid_acc=0.93, valid_loss=0.0206]\n"
     ]
    },
    {
     "name": "stdout",
     "output_type": "stream",
     "text": [
      "Adjusting learning rate of group 0 to 9.0438e-04.\n",
      "[fold: 3]\n"
     ]
    },
    {
     "name": "stderr",
     "output_type": "stream",
     "text": [
      "\r",
      "  0%|          | 0/522 [00:00<?, ?batch/s]"
     ]
    },
    {
     "name": "stdout",
     "output_type": "stream",
     "text": [
      "Adjusting learning rate of group 0 to 1.0000e-03.\n"
     ]
    },
    {
     "name": "stderr",
     "output_type": "stream",
     "text": [
      "Train Epoch 0: 100%|██████████| 522/522 [00:57<00:00,  9.10batch/s, train_acc=0.884, train_loss=0.42]\n",
      "Valid Epoch 0: 100%|██████████| 131/131 [00:13<00:00,  9.97batch/s, valid_acc=0.927, valid_loss=0.00358]\n"
     ]
    },
    {
     "name": "stdout",
     "output_type": "stream",
     "text": [
      "Adjusting learning rate of group 0 to 9.9000e-04.\n"
     ]
    },
    {
     "name": "stderr",
     "output_type": "stream",
     "text": [
      "Train Epoch 1: 100%|██████████| 522/522 [00:57<00:00,  9.00batch/s, train_acc=0.945, train_loss=0.00265]\n",
      "Valid Epoch 1: 100%|██████████| 131/131 [00:12<00:00, 10.09batch/s, valid_acc=0.946, valid_loss=0.0328]\n"
     ]
    },
    {
     "name": "stdout",
     "output_type": "stream",
     "text": [
      "Adjusting learning rate of group 0 to 9.8010e-04.\n"
     ]
    },
    {
     "name": "stderr",
     "output_type": "stream",
     "text": [
      "Train Epoch 2: 100%|██████████| 522/522 [00:58<00:00,  8.97batch/s, train_acc=0.967, train_loss=0.0586]\n",
      "Valid Epoch 2: 100%|██████████| 131/131 [00:13<00:00,  9.95batch/s, valid_acc=0.937, valid_loss=0.0022]\n",
      "  0%|          | 0/522 [00:00<?, ?batch/s]"
     ]
    },
    {
     "name": "stdout",
     "output_type": "stream",
     "text": [
      "Adjusting learning rate of group 0 to 9.7030e-04.\n"
     ]
    },
    {
     "name": "stderr",
     "output_type": "stream",
     "text": [
      "Train Epoch 3: 100%|██████████| 522/522 [00:57<00:00,  9.01batch/s, train_acc=0.967, train_loss=0.977]\n",
      "Valid Epoch 3: 100%|██████████| 131/131 [00:12<00:00, 10.16batch/s, valid_acc=0.941, valid_loss=0.00541]\n",
      "  0%|          | 0/522 [00:00<?, ?batch/s]"
     ]
    },
    {
     "name": "stdout",
     "output_type": "stream",
     "text": [
      "Adjusting learning rate of group 0 to 9.6060e-04.\n"
     ]
    },
    {
     "name": "stderr",
     "output_type": "stream",
     "text": [
      "Train Epoch 4: 100%|██████████| 522/522 [00:57<00:00,  9.06batch/s, train_acc=0.971, train_loss=0.0356]\n",
      "Valid Epoch 4: 100%|██████████| 131/131 [00:13<00:00,  9.92batch/s, valid_acc=0.965, valid_loss=0.029]\n"
     ]
    },
    {
     "name": "stdout",
     "output_type": "stream",
     "text": [
      "Adjusting learning rate of group 0 to 9.5099e-04.\n"
     ]
    },
    {
     "name": "stderr",
     "output_type": "stream",
     "text": [
      "Train Epoch 5: 100%|██████████| 522/522 [00:58<00:00,  8.93batch/s, train_acc=0.979, train_loss=0.101]\n",
      "Valid Epoch 5: 100%|██████████| 131/131 [00:13<00:00,  9.90batch/s, valid_acc=0.94, valid_loss=0.00382]\n",
      "  0%|          | 0/522 [00:00<?, ?batch/s]"
     ]
    },
    {
     "name": "stdout",
     "output_type": "stream",
     "text": [
      "Adjusting learning rate of group 0 to 9.4148e-04.\n"
     ]
    },
    {
     "name": "stderr",
     "output_type": "stream",
     "text": [
      "Train Epoch 6: 100%|██████████| 522/522 [00:57<00:00,  9.01batch/s, train_acc=0.975, train_loss=0.294]\n",
      "Valid Epoch 6: 100%|██████████| 131/131 [00:13<00:00,  9.79batch/s, valid_acc=0.865, valid_loss=1.36]\n",
      "  0%|          | 0/522 [00:00<?, ?batch/s]"
     ]
    },
    {
     "name": "stdout",
     "output_type": "stream",
     "text": [
      "Adjusting learning rate of group 0 to 9.3207e-04.\n"
     ]
    },
    {
     "name": "stderr",
     "output_type": "stream",
     "text": [
      "Train Epoch 7: 100%|██████████| 522/522 [00:58<00:00,  8.97batch/s, train_acc=0.982, train_loss=0.00494]\n",
      "Valid Epoch 7: 100%|██████████| 131/131 [00:13<00:00,  9.95batch/s, valid_acc=0.975, valid_loss=5.68e-6]\n"
     ]
    },
    {
     "name": "stdout",
     "output_type": "stream",
     "text": [
      "Adjusting learning rate of group 0 to 9.2274e-04.\n"
     ]
    },
    {
     "name": "stderr",
     "output_type": "stream",
     "text": [
      "Train Epoch 8: 100%|██████████| 522/522 [00:58<00:00,  8.90batch/s, train_acc=0.979, train_loss=0.00851]\n",
      "Valid Epoch 8: 100%|██████████| 131/131 [00:13<00:00, 10.03batch/s, valid_acc=0.968, valid_loss=0.0109]\n",
      "  0%|          | 0/522 [00:00<?, ?batch/s]"
     ]
    },
    {
     "name": "stdout",
     "output_type": "stream",
     "text": [
      "Adjusting learning rate of group 0 to 9.1352e-04.\n"
     ]
    },
    {
     "name": "stderr",
     "output_type": "stream",
     "text": [
      "Train Epoch 9: 100%|██████████| 522/522 [00:57<00:00,  9.05batch/s, train_acc=0.984, train_loss=0.0545]\n",
      "Valid Epoch 9: 100%|██████████| 131/131 [00:13<00:00,  9.97batch/s, valid_acc=0.978, valid_loss=1.29e-6]\n"
     ]
    },
    {
     "name": "stdout",
     "output_type": "stream",
     "text": [
      "Adjusting learning rate of group 0 to 9.0438e-04.\n",
      "[fold: 4]\n"
     ]
    },
    {
     "name": "stderr",
     "output_type": "stream",
     "text": [
      "\r",
      "  0%|          | 0/522 [00:00<?, ?batch/s]"
     ]
    },
    {
     "name": "stdout",
     "output_type": "stream",
     "text": [
      "Adjusting learning rate of group 0 to 1.0000e-03.\n"
     ]
    },
    {
     "name": "stderr",
     "output_type": "stream",
     "text": [
      "Train Epoch 0: 100%|██████████| 522/522 [00:58<00:00,  8.98batch/s, train_acc=0.896, train_loss=0.366]\n",
      "Valid Epoch 0: 100%|██████████| 131/131 [00:13<00:00,  9.81batch/s, valid_acc=0.89, valid_loss=0.091]\n"
     ]
    },
    {
     "name": "stdout",
     "output_type": "stream",
     "text": [
      "Adjusting learning rate of group 0 to 9.9000e-04.\n"
     ]
    },
    {
     "name": "stderr",
     "output_type": "stream",
     "text": [
      "Train Epoch 1: 100%|██████████| 522/522 [00:58<00:00,  8.86batch/s, train_acc=0.957, train_loss=0.00129]\n",
      "Valid Epoch 1: 100%|██████████| 131/131 [00:13<00:00,  9.76batch/s, valid_acc=0.971, valid_loss=0.461]\n"
     ]
    },
    {
     "name": "stdout",
     "output_type": "stream",
     "text": [
      "Adjusting learning rate of group 0 to 9.8010e-04.\n"
     ]
    },
    {
     "name": "stderr",
     "output_type": "stream",
     "text": [
      "Train Epoch 2: 100%|██████████| 522/522 [00:58<00:00,  8.91batch/s, train_acc=0.959, train_loss=0.358]\n",
      "Valid Epoch 2: 100%|██████████| 131/131 [00:13<00:00,  9.42batch/s, valid_acc=0.951, valid_loss=0.323]\n",
      "  0%|          | 0/522 [00:00<?, ?batch/s]"
     ]
    },
    {
     "name": "stdout",
     "output_type": "stream",
     "text": [
      "Adjusting learning rate of group 0 to 9.7030e-04.\n"
     ]
    },
    {
     "name": "stderr",
     "output_type": "stream",
     "text": [
      "Train Epoch 3: 100%|██████████| 522/522 [00:58<00:00,  8.94batch/s, train_acc=0.972, train_loss=0.0508]\n",
      "Valid Epoch 3: 100%|██████████| 131/131 [00:13<00:00,  9.47batch/s, valid_acc=0.928, valid_loss=0.00073]\n",
      "  0%|          | 0/522 [00:00<?, ?batch/s]"
     ]
    },
    {
     "name": "stdout",
     "output_type": "stream",
     "text": [
      "Adjusting learning rate of group 0 to 9.6060e-04.\n"
     ]
    },
    {
     "name": "stderr",
     "output_type": "stream",
     "text": [
      "Train Epoch 4: 100%|██████████| 522/522 [00:58<00:00,  8.95batch/s, train_acc=0.974, train_loss=0.00579]\n",
      "Valid Epoch 4: 100%|██████████| 131/131 [00:13<00:00,  9.63batch/s, valid_acc=0.98, valid_loss=0.254]\n"
     ]
    },
    {
     "name": "stdout",
     "output_type": "stream",
     "text": [
      "Adjusting learning rate of group 0 to 9.5099e-04.\n"
     ]
    },
    {
     "name": "stderr",
     "output_type": "stream",
     "text": [
      "Train Epoch 5: 100%|██████████| 522/522 [00:57<00:00,  9.00batch/s, train_acc=0.969, train_loss=0.0175]\n",
      "Valid Epoch 5: 100%|██████████| 131/131 [00:13<00:00,  9.74batch/s, valid_acc=0.965, valid_loss=0.00152]\n",
      "  0%|          | 0/522 [00:00<?, ?batch/s]"
     ]
    },
    {
     "name": "stdout",
     "output_type": "stream",
     "text": [
      "Adjusting learning rate of group 0 to 9.4148e-04.\n"
     ]
    },
    {
     "name": "stderr",
     "output_type": "stream",
     "text": [
      "Train Epoch 6: 100%|██████████| 522/522 [00:57<00:00,  9.07batch/s, train_acc=0.982, train_loss=0.264]\n",
      "Valid Epoch 6: 100%|██████████| 131/131 [00:13<00:00,  9.93batch/s, valid_acc=0.968, valid_loss=0.000245]\n",
      "  0%|          | 0/522 [00:00<?, ?batch/s]"
     ]
    },
    {
     "name": "stdout",
     "output_type": "stream",
     "text": [
      "Adjusting learning rate of group 0 to 9.3207e-04.\n"
     ]
    },
    {
     "name": "stderr",
     "output_type": "stream",
     "text": [
      "Train Epoch 7: 100%|██████████| 522/522 [00:57<00:00,  9.04batch/s, train_acc=0.98, train_loss=0.00591]\n",
      "Valid Epoch 7: 100%|██████████| 131/131 [00:13<00:00,  9.82batch/s, valid_acc=0.934, valid_loss=0.523]\n",
      "  0%|          | 0/522 [00:00<?, ?batch/s]"
     ]
    },
    {
     "name": "stdout",
     "output_type": "stream",
     "text": [
      "Adjusting learning rate of group 0 to 9.2274e-04.\n"
     ]
    },
    {
     "name": "stderr",
     "output_type": "stream",
     "text": [
      "Train Epoch 8: 100%|██████████| 522/522 [00:57<00:00,  9.07batch/s, train_acc=0.983, train_loss=0.00178]\n",
      "Valid Epoch 8: 100%|██████████| 131/131 [00:13<00:00,  9.84batch/s, valid_acc=0.948, valid_loss=0.0151]\n",
      "  0%|          | 0/522 [00:00<?, ?batch/s]"
     ]
    },
    {
     "name": "stdout",
     "output_type": "stream",
     "text": [
      "Adjusting learning rate of group 0 to 9.1352e-04.\n"
     ]
    },
    {
     "name": "stderr",
     "output_type": "stream",
     "text": [
      "Train Epoch 9: 100%|██████████| 522/522 [00:57<00:00,  9.02batch/s, train_acc=0.986, train_loss=0.00216]\n",
      "Valid Epoch 9: 100%|██████████| 131/131 [00:13<00:00,  9.77batch/s, valid_acc=0.922, valid_loss=0.016]\n"
     ]
    },
    {
     "name": "stdout",
     "output_type": "stream",
     "text": [
      "Adjusting learning rate of group 0 to 9.0438e-04.\n",
      "[fold: 5]\n"
     ]
    },
    {
     "name": "stderr",
     "output_type": "stream",
     "text": [
      "\r",
      "  0%|          | 0/522 [00:00<?, ?batch/s]"
     ]
    },
    {
     "name": "stdout",
     "output_type": "stream",
     "text": [
      "Adjusting learning rate of group 0 to 1.0000e-03.\n"
     ]
    },
    {
     "name": "stderr",
     "output_type": "stream",
     "text": [
      "Train Epoch 0: 100%|██████████| 522/522 [00:58<00:00,  8.93batch/s, train_acc=0.846, train_loss=0.00815]\n",
      "Valid Epoch 0: 100%|██████████| 131/131 [00:13<00:00,  9.95batch/s, valid_acc=0.952, valid_loss=0.0558]\n"
     ]
    },
    {
     "name": "stdout",
     "output_type": "stream",
     "text": [
      "Adjusting learning rate of group 0 to 9.9000e-04.\n"
     ]
    },
    {
     "name": "stderr",
     "output_type": "stream",
     "text": [
      "Train Epoch 1: 100%|██████████| 522/522 [00:58<00:00,  8.98batch/s, train_acc=0.94, train_loss=0.152]\n",
      "Valid Epoch 1: 100%|██████████| 131/131 [00:13<00:00, 10.01batch/s, valid_acc=0.955, valid_loss=0.00989]\n"
     ]
    },
    {
     "name": "stdout",
     "output_type": "stream",
     "text": [
      "Adjusting learning rate of group 0 to 9.8010e-04.\n"
     ]
    },
    {
     "name": "stderr",
     "output_type": "stream",
     "text": [
      "Train Epoch 2: 100%|██████████| 522/522 [00:58<00:00,  8.86batch/s, train_acc=0.958, train_loss=0.0036]\n",
      "Valid Epoch 2: 100%|██████████| 131/131 [00:13<00:00,  9.91batch/s, valid_acc=0.963, valid_loss=0.0744]\n"
     ]
    },
    {
     "name": "stdout",
     "output_type": "stream",
     "text": [
      "Adjusting learning rate of group 0 to 9.7030e-04.\n"
     ]
    },
    {
     "name": "stderr",
     "output_type": "stream",
     "text": [
      "Train Epoch 3: 100%|██████████| 522/522 [00:59<00:00,  8.83batch/s, train_acc=0.967, train_loss=0.00714]\n",
      "Valid Epoch 3: 100%|██████████| 131/131 [00:13<00:00,  9.89batch/s, valid_acc=0.972, valid_loss=0.00129]\n"
     ]
    },
    {
     "name": "stdout",
     "output_type": "stream",
     "text": [
      "Adjusting learning rate of group 0 to 9.6060e-04.\n"
     ]
    },
    {
     "name": "stderr",
     "output_type": "stream",
     "text": [
      "Train Epoch 4: 100%|██████████| 522/522 [00:57<00:00,  9.13batch/s, train_acc=0.97, train_loss=0.0852]\n",
      "Valid Epoch 4: 100%|██████████| 131/131 [00:13<00:00,  9.85batch/s, valid_acc=0.966, valid_loss=0.001]\n",
      "  0%|          | 0/522 [00:00<?, ?batch/s]"
     ]
    },
    {
     "name": "stdout",
     "output_type": "stream",
     "text": [
      "Adjusting learning rate of group 0 to 9.5099e-04.\n"
     ]
    },
    {
     "name": "stderr",
     "output_type": "stream",
     "text": [
      "Train Epoch 5: 100%|██████████| 522/522 [00:56<00:00,  9.23batch/s, train_acc=0.97, train_loss=0.036]\n",
      "Valid Epoch 5: 100%|██████████| 131/131 [00:12<00:00, 10.34batch/s, valid_acc=0.956, valid_loss=0.0349]\n",
      "  0%|          | 0/522 [00:00<?, ?batch/s]"
     ]
    },
    {
     "name": "stdout",
     "output_type": "stream",
     "text": [
      "Adjusting learning rate of group 0 to 9.4148e-04.\n"
     ]
    },
    {
     "name": "stderr",
     "output_type": "stream",
     "text": [
      "Train Epoch 6: 100%|██████████| 522/522 [00:56<00:00,  9.20batch/s, train_acc=0.981, train_loss=0.000732]\n",
      "Valid Epoch 6: 100%|██████████| 131/131 [00:12<00:00, 10.21batch/s, valid_acc=0.973, valid_loss=0.000522]\n"
     ]
    },
    {
     "name": "stdout",
     "output_type": "stream",
     "text": [
      "Adjusting learning rate of group 0 to 9.3207e-04.\n"
     ]
    },
    {
     "name": "stderr",
     "output_type": "stream",
     "text": [
      "Train Epoch 7: 100%|██████████| 522/522 [00:57<00:00,  9.02batch/s, train_acc=0.98, train_loss=0.00253]\n",
      "Valid Epoch 7: 100%|██████████| 131/131 [00:12<00:00, 10.45batch/s, valid_acc=0.965, valid_loss=0.011]\n",
      "  0%|          | 0/522 [00:00<?, ?batch/s]"
     ]
    },
    {
     "name": "stdout",
     "output_type": "stream",
     "text": [
      "Adjusting learning rate of group 0 to 9.2274e-04.\n"
     ]
    },
    {
     "name": "stderr",
     "output_type": "stream",
     "text": [
      "Train Epoch 8: 100%|██████████| 522/522 [00:57<00:00,  9.13batch/s, train_acc=0.981, train_loss=0.149]\n",
      "Valid Epoch 8: 100%|██████████| 131/131 [00:12<00:00, 10.09batch/s, valid_acc=0.976, valid_loss=0.000151]\n"
     ]
    },
    {
     "name": "stdout",
     "output_type": "stream",
     "text": [
      "Adjusting learning rate of group 0 to 9.1352e-04.\n"
     ]
    },
    {
     "name": "stderr",
     "output_type": "stream",
     "text": [
      "Train Epoch 9: 100%|██████████| 522/522 [00:57<00:00,  9.11batch/s, train_acc=0.982, train_loss=0.000367]\n",
      "Valid Epoch 9: 100%|██████████| 131/131 [00:12<00:00, 10.29batch/s, valid_acc=0.969, valid_loss=0.0136]"
     ]
    },
    {
     "name": "stdout",
     "output_type": "stream",
     "text": [
      "Adjusting learning rate of group 0 to 9.0438e-04.\n"
     ]
    },
    {
     "name": "stderr",
     "output_type": "stream",
     "text": [
      "\n"
     ]
    }
   ],
   "source": [
    "seed_everything()\n",
    "\n",
    "# 학습\n",
    "\n",
    "\n",
    "# cross validation을 적용하기 위해 KFold 생성\n",
    "from sklearn.model_selection import KFold\n",
    "kfold = KFold(n_splits=5, shuffle=True, random_state=42)\n",
    "\n",
    "best_models = [] # 폴드별로 가장 validation acc가 높은 모델 저장\n",
    "for fold_index, (trn_idx, val_idx) in enumerate(kfold.split(train_label),1):\n",
    "    print(f'[fold: {fold_index}]')\n",
    "    # cuda cache 초기화\n",
    "    torch.cuda.empty_cache()\n",
    "\n",
    "    #train fold, validation fold 분할\n",
    "    train_answer = train_label.iloc[trn_idx]\n",
    "    test_answer  = train_label.iloc[val_idx]\n",
    "\n",
    "    #Dataset 정의\n",
    "    train_dataset = DatasetMNIST(mydir+\"/train/\", train_answer)\n",
    "    valid_dataset = DatasetMNIST_test(mydir+\"/train/\", test_answer)\n",
    "\n",
    "    #DataLoader 정의\n",
    "    train_data_loader = DataLoader(\n",
    "        train_dataset,\n",
    "        batch_size = 8,\n",
    "        shuffle = True,\n",
    "        num_workers = 3\n",
    "    )\n",
    "    valid_data_loader = DataLoader(\n",
    "        valid_dataset,\n",
    "        batch_size = 8,\n",
    "        shuffle = True,\n",
    "        num_workers = 3\n",
    "    )\n",
    "\n",
    "    # 모델 선언\n",
    "    model = Net()\n",
    "    model.to(device)# gpu에 모델 할당\n",
    "\n",
    "    # 훈련 옵션 설정\n",
    "    # optim = torch.optim.SGD(model.parameters(), 1e-3)\n",
    "    optimizer = torch.optim.SGD(model.parameters(),\n",
    "                                lr = 1e-3,\n",
    "                                weight_decay = 1e-4,\n",
    "                                momentum = 0.9)\n",
    "    lr_scheduler = torch.optim.lr_scheduler.ExponentialLR(optimizer,\n",
    "                                                          gamma = 0.99,\n",
    "                                                          verbose = True)\n",
    "    criterion = torch.nn.BCELoss()\n",
    "\n",
    "    # 훈련 시작\n",
    "    valid_acc_max = 0\n",
    "    for epoch in range(10):\n",
    "        # 1개 epoch 훈련\n",
    "        train_acc_list = []\n",
    "        with tqdm(train_data_loader,#train_data_loader를 iterative하게 반환\n",
    "                total=train_data_loader.__len__(), # train_data_loader의 크기\n",
    "                unit=\"batch\") as train_bar:# 한번 반환하는 sample의 단위는 \"batch\"\n",
    "            for sample in train_bar:\n",
    "                train_bar.set_description(f\"Train Epoch {epoch}\")\n",
    "                # 갱신할 변수들에 대한 모든 변화도를 0으로 초기화\n",
    "                # 참고)https://tutorials.pytorch.kr/beginner/pytorch_with_examples.html\n",
    "                optimizer.zero_grad()\n",
    "                images, labels = sample['image'], sample['label']\n",
    "                # tensor를 gpu에 올리기 \n",
    "                images = images.to(device)\n",
    "                labels = labels.to(device)\n",
    "\n",
    "                # 모델의 dropoupt, batchnormalization를 train 모드로 설정\n",
    "                model.train()\n",
    "\n",
    "                # batch에 대한 image mixup 진행\n",
    "\n",
    "                # .forward()에서 중간 노드의 gradient를 계산\n",
    "                with torch.set_grad_enabled(True):\n",
    "                    # 모델 예측\n",
    "                    probs  = model(images)\n",
    "                    # loss 계산\n",
    "                    weight = class_weight[probs.data.view(-1).long()].view_as(probs).to(device)\n",
    "                    # mixup label에 대한 criterion 적용\n",
    "                    loss = criterion(probs,labels)\n",
    "                    # class weight 적용\n",
    "                    loss_class_weighted = loss * weight\n",
    "                    loss = loss_class_weighted.mean()\n",
    "                    # 중간 노드의 gradient로\n",
    "                    # backpropagation을 적용하여\n",
    "                    # gradient 계산\n",
    "                    loss.backward()\n",
    "                    # weight 갱신\n",
    "                    optimizer.step()\n",
    "\n",
    "                    # train accuracy 계산\n",
    "                    probs  = probs.cpu().detach().numpy()\n",
    "                    labels = labels.cpu().detach().numpy()\n",
    "                    preds = probs > 0.5\n",
    "                    batch_acc = (labels == preds).mean()\n",
    "                    train_acc_list.append(batch_acc)\n",
    "                    train_acc = np.mean(train_acc_list)\n",
    "\n",
    "                # 현재 progress bar에 현재 미니배치의 loss 결과 출력\n",
    "                train_bar.set_postfix(train_loss= loss.item(),\n",
    "                                      train_acc = train_acc)\n",
    "                \n",
    "\n",
    "        # 1개 epoch학습 후 Validation 점수 계산\n",
    "        valid_acc_list = []\n",
    "        with tqdm(valid_data_loader,\n",
    "                total=valid_data_loader.__len__(),\n",
    "                unit=\"batch\") as valid_bar:\n",
    "            for sample in valid_bar:\n",
    "                valid_bar.set_description(f\"Valid Epoch {epoch}\")\n",
    "                optimizer.zero_grad()\n",
    "                images, labels = sample['image'], sample['label']\n",
    "                images = images.to(device)\n",
    "                labels = labels.to(device)\n",
    "\n",
    "                # 모델의 dropout, batchnormalization를 eval모드로 설정\n",
    "                model.eval()\n",
    "\n",
    "                # .forward()에서 중간 노드의 gradient를 계산\n",
    "                with torch.no_grad():\n",
    "                    # validation loss만을 계산\n",
    "                    probs  = model(images)\n",
    "                    valid_loss = criterion(probs, labels)\n",
    "\n",
    "                    # train accuracy 계산\n",
    "                    probs  = probs.cpu().detach().numpy()\n",
    "                    labels = labels.cpu().detach().numpy()\n",
    "                    preds = probs > 0.5\n",
    "                    batch_acc = (labels == preds).mean()\n",
    "                    valid_acc_list.append(batch_acc)\n",
    "\n",
    "                valid_acc = np.mean(valid_acc_list)\n",
    "                valid_bar.set_postfix(valid_loss = valid_loss.item(),\n",
    "                                      valid_acc = valid_acc)\n",
    "            \n",
    "        # Learning rate 조절\n",
    "        lr_scheduler.step()\n",
    "\n",
    "        # 모델 저장\n",
    "        if valid_acc_max < valid_acc:\n",
    "            valid_acc_max = valid_acc\n",
    "            best_model = model\n",
    "            MODEL = \"EffnetB0\"\n",
    "            # 모델을 저장할 구글 드라이브 경로\n",
    "            path = \"/content/gdrive/My Drive/models/\"\n",
    "            torch.save(best_model, f'{path}{fold_index}_{MODEL}_{valid_loss.item():2.4f}_epoch_{epoch}.pth')\n",
    "\n",
    "    # 폴드별로 가장 좋은 모델 저장\n",
    "    best_models.append(best_model)\n",
    "    writer.flush()"
   ]
  },
  {
   "cell_type": "code",
   "execution_count": null,
   "metadata": {
    "colab": {
     "base_uri": "https://localhost:8080/"
    },
    "executionInfo": {
     "elapsed": 19732,
     "status": "ok",
     "timestamp": 1615105883884,
     "user": {
      "displayName": "‍차지수(학부학생/사회과학대학 언론홍보영상학)",
      "photoUrl": "",
      "userId": "01051544767581313229"
     },
     "user_tz": -540
    },
    "id": "50NMcpAuc6mv",
    "outputId": "502a2d63-9598-4e17-a069-c0e9788645e7"
   },
   "outputs": [
    {
     "name": "stdout",
     "output_type": "stream",
     "text": [
      "2021-03-07 08:31:05.519674: I tensorflow/stream_executor/platform/default/dso_loader.cc:49] Successfully opened dynamic library libcudart.so.11.0\n",
      "Serving TensorBoard on localhost; to expose to the network, use a proxy or pass --bind_all\n",
      "TensorBoard 2.4.1 at http://localhost:6006/ (Press CTRL+C to quit)\n"
     ]
    }
   ],
   "source": [
    "!tensorboard --logdir=runs"
   ]
  },
  {
   "cell_type": "code",
   "execution_count": 65,
   "metadata": {
    "colab": {
     "base_uri": "https://localhost:8080/",
     "height": 315
    },
    "executionInfo": {
     "elapsed": 1786,
     "status": "ok",
     "timestamp": 1615635834182,
     "user": {
      "displayName": "‍차지수(학부학생/사회과학대학 언론홍보영상학)",
      "photoUrl": "",
      "userId": "01051544767581313229"
     },
     "user_tz": -540
    },
    "id": "yLMfeL4lIqlA",
    "outputId": "5a121a84-5105-4ddc-c066-640bf378f1f3"
   },
   "outputs": [
    {
     "data": {
      "image/png": "[encoded data removed]",
      "text/plain": [
       "<Figure size 432x288 with 1 Axes>"
      ]
     },
     "metadata": {
      "needs_background": "light",
      "tags": []
     },
     "output_type": "display_data"
    },
    {
     "name": "stdout",
     "output_type": "stream",
     "text": [
      "예측값 :  pneumonia\n",
      "정답값 :  pneumonia\n"
     ]
    }
   ],
   "source": [
    "def myprobs(probs):\n",
    "    if probs>0.5:\n",
    "        result = 'pneumonia'\n",
    "    else:\n",
    "        result = 'normal'\n",
    "    return result\n",
    "\n",
    "\n",
    "# gpu에 올라가 있는 tensor -> cpu로 이동 -> numpy array로 변환\n",
    "sample_images = images.cpu().detach().numpy()\n",
    "sample_prob = probs\n",
    "sample_labels = labels\n",
    "\n",
    "idx = 0\n",
    "plt.imshow(sample_images[idx][0])\n",
    "plt.title(\"sample input image\")\n",
    "plt.show()\n",
    "\n",
    "print('예측값 : ',myprobs(sample_prob[idx]))\n",
    "print('정답값 : ',myprobs(sample_labels[idx]))"
   ]
  },
  {
   "cell_type": "code",
   "execution_count": 29,
   "metadata": {
    "executionInfo": {
     "elapsed": 863,
     "status": "ok",
     "timestamp": 1615621280322,
     "user": {
      "displayName": "‍차지수(학부학생/사회과학대학 언론홍보영상학)",
      "photoUrl": "",
      "userId": "01051544767581313229"
     },
     "user_tz": -540
    },
    "id": "lu9V1_kqMNat"
   },
   "outputs": [],
   "source": [
    "# prediction"
   ]
  },
  {
   "cell_type": "code",
   "execution_count": 66,
   "metadata": {
    "executionInfo": {
     "elapsed": 802,
     "status": "ok",
     "timestamp": 1615635862717,
     "user": {
      "displayName": "‍차지수(학부학생/사회과학대학 언론홍보영상학)",
      "photoUrl": "",
      "userId": "01051544767581313229"
     },
     "user_tz": -540
    },
    "id": "YJG0rt7U0HAR"
   },
   "outputs": [],
   "source": [
    "#test Dataset 정의\n",
    "\n",
    "test_dataset = DatasetMNIST_test(mydir+\"/test/\", test_label)\n",
    "batch_size = 8\n",
    "test_data_loader = DataLoader(\n",
    "    test_dataset,\n",
    "    batch_size = batch_size,\n",
    "    shuffle = False,\n",
    "    num_workers = 3,\n",
    "    drop_last = False\n",
    ")"
   ]
  },
  {
   "cell_type": "code",
   "execution_count": 67,
   "metadata": {
    "executionInfo": {
     "elapsed": 38369,
     "status": "ok",
     "timestamp": 1615635903765,
     "user": {
      "displayName": "‍차지수(학부학생/사회과학대학 언론홍보영상학)",
      "photoUrl": "",
      "userId": "01051544767581313229"
     },
     "user_tz": -540
    },
    "id": "582ACvdP0vPL"
   },
   "outputs": [],
   "source": [
    "predictions_list = []\n",
    "# 배치 단위로 추론\n",
    "\n",
    "# 5개의 fold마다 가장 좋은 모델을 이용하여 예측\n",
    "for model in best_models:\n",
    "    # 0으로 채워진 array 생성\n",
    "    prediction_array = np.zeros([624,1])\n",
    "    for idx, sample in enumerate(test_data_loader):\n",
    "        with torch.no_grad():\n",
    "            # 추론\n",
    "            model.eval()\n",
    "            images = sample['image']\n",
    "            images = images.to(device)\n",
    "            probs  = model(images)\n",
    "            probs = probs.cpu().detach().numpy()\n",
    "            preds = (probs > 0.5)\n",
    "\n",
    "            # 예측 결과를 \n",
    "            # prediction_array에 입력\n",
    "            batch_index = batch_size * idx\n",
    "            prediction_array[batch_index: batch_index + images.shape[0],:]\\\n",
    "                         = preds.astype(int)\n",
    "                         \n",
    "    # 채널을 하나 추가하여 list에 append\n",
    "    predictions_list.append(prediction_array[...,np.newaxis])"
   ]
  },
  {
   "cell_type": "code",
   "execution_count": 68,
   "metadata": {
    "colab": {
     "base_uri": "https://localhost:8080/"
    },
    "executionInfo": {
     "elapsed": 832,
     "status": "ok",
     "timestamp": 1615635907890,
     "user": {
      "displayName": "‍차지수(학부학생/사회과학대학 언론홍보영상학)",
      "photoUrl": "",
      "userId": "01051544767581313229"
     },
     "user_tz": -540
    },
    "id": "vQqzM8981fHu",
    "outputId": "4fe896fb-0492-4cf7-b77a-ad5c8f1570f2"
   },
   "outputs": [
    {
     "data": {
      "text/plain": [
       "(624, 1)"
      ]
     },
     "execution_count": 68,
     "metadata": {
      "tags": []
     },
     "output_type": "execute_result"
    }
   ],
   "source": [
    "predictions_array = np.concatenate(predictions_list, axis = 2)\n",
    "predictions_mean = predictions_array.mean(axis = 2)\n",
    "\n",
    "# 평균 값이 0.5보다 클 경우 1 작으면 0\n",
    "predictions_mean = (predictions_mean > 0.5) * 1\n",
    "predictions_mean.shape"
   ]
  },
  {
   "cell_type": "code",
   "execution_count": 69,
   "metadata": {
    "colab": {
     "base_uri": "https://localhost:8080/"
    },
    "executionInfo": {
     "elapsed": 832,
     "status": "ok",
     "timestamp": 1615635916661,
     "user": {
      "displayName": "‍차지수(학부학생/사회과학대학 언론홍보영상학)",
      "photoUrl": "",
      "userId": "01051544767581313229"
     },
     "user_tz": -540
    },
    "id": "ZrvBZWNFZ437",
    "outputId": "281cb100-9bd1-4970-da29-eb643cddafba"
   },
   "outputs": [
    {
     "name": "stdout",
     "output_type": "stream",
     "text": [
      "              precision    recall  f1-score   support\n",
      "\n",
      "           0       0.88      0.98      0.93       209\n",
      "           1       0.99      0.93      0.96       415\n",
      "\n",
      "    accuracy                           0.95       624\n",
      "   macro avg       0.93      0.96      0.94       624\n",
      "weighted avg       0.95      0.95      0.95       624\n",
      "\n",
      "accuracy score is 0.9471153846153846\n",
      "f1 score is 0.9590062111801243\n"
     ]
    }
   ],
   "source": [
    "# Adam,ExponentialLR, batch_size = 8, vgg16\n",
    "from sklearn.metrics import classification_report\n",
    "from sklearn.metrics import accuracy_score\n",
    "from sklearn.metrics import f1_score\n",
    "print(classification_report(predictions_mean, test_label['normal']))\n",
    "print('accuracy score is ' +str(accuracy_score(test_label['normal'], predictions_mean)))\n",
    "print('f1 score is ' +str(f1_score(test_label['normal'], predictions_mean)))"
   ]
  },
  {
   "cell_type": "code",
   "execution_count": 60,
   "metadata": {
    "colab": {
     "base_uri": "https://localhost:8080/"
    },
    "executionInfo": {
     "elapsed": 923,
     "status": "ok",
     "timestamp": 1615630862567,
     "user": {
      "displayName": "‍차지수(학부학생/사회과학대학 언론홍보영상학)",
      "photoUrl": "",
      "userId": "01051544767581313229"
     },
     "user_tz": -540
    },
    "id": "JkEf7Nz8F_KA",
    "outputId": "98b94ff0-e9c4-40df-adad-5f9b0c41ce01"
   },
   "outputs": [
    {
     "name": "stdout",
     "output_type": "stream",
     "text": [
      "              precision    recall  f1-score   support\n",
      "\n",
      "           0       0.81      0.99      0.89       191\n",
      "           1       0.99      0.90      0.94       433\n",
      "\n",
      "    accuracy                           0.92       624\n",
      "   macro avg       0.90      0.94      0.92       624\n",
      "weighted avg       0.94      0.92      0.93       624\n",
      "\n",
      "accuracy score is 0.9246794871794872\n",
      "f1 score is 0.9428918590522479\n"
     ]
    }
   ],
   "source": [
    "# Adam,ExponentialLR, batch_size = 8, mobilenet\n",
    "from sklearn.metrics import classification_report\n",
    "from sklearn.metrics import accuracy_score\n",
    "from sklearn.metrics import f1_score\n",
    "print(classification_report(predictions_mean, test_label['normal']))\n",
    "print('accuracy score is ' +str(accuracy_score(test_label['normal'], predictions_mean)))\n",
    "print('f1 score is ' +str(f1_score(test_label['normal'], predictions_mean)))"
   ]
  },
  {
   "cell_type": "code",
   "execution_count": 42,
   "metadata": {
    "colab": {
     "base_uri": "https://localhost:8080/"
    },
    "executionInfo": {
     "elapsed": 953,
     "status": "ok",
     "timestamp": 1615625658562,
     "user": {
      "displayName": "‍차지수(학부학생/사회과학대학 언론홍보영상학)",
      "photoUrl": "",
      "userId": "01051544767581313229"
     },
     "user_tz": -540
    },
    "id": "r67iE4xTyrlA",
    "outputId": "b5f46f6c-94ba-40e2-f7cd-0f51c64337b9"
   },
   "outputs": [
    {
     "name": "stdout",
     "output_type": "stream",
     "text": [
      "              precision    recall  f1-score   support\n",
      "\n",
      "         0.0       0.00      0.00      0.00         0\n",
      "         1.0       1.00      0.62      0.77       624\n",
      "\n",
      "    accuracy                           0.62       624\n",
      "   macro avg       0.50      0.31      0.38       624\n",
      "weighted avg       1.00      0.62      0.77       624\n",
      "\n",
      "accuracy score is 0.625\n",
      "f1 score is 0.7692307692307693\n"
     ]
    }
   ],
   "source": [
    "# Adam,ExponentialLR, mixup (alpha = 0.2), batch_size = 8, vgg16\n",
    "from sklearn.metrics import classification_report\n",
    "from sklearn.metrics import accuracy_score\n",
    "from sklearn.metrics import f1_score\n",
    "print(classification_report(predictions_mean, test_label['normal']))\n",
    "print('accuracy score is ' +str(accuracy_score(test_label['normal'], predictions_mean)))\n",
    "print('f1 score is ' +str(f1_score(test_label['normal'], predictions_mean)))"
   ]
  },
  {
   "cell_type": "code",
   "execution_count": 34,
   "metadata": {
    "colab": {
     "base_uri": "https://localhost:8080/"
    },
    "executionInfo": {
     "elapsed": 1283,
     "status": "ok",
     "timestamp": 1615621452651,
     "user": {
      "displayName": "‍차지수(학부학생/사회과학대학 언론홍보영상학)",
      "photoUrl": "",
      "userId": "01051544767581313229"
     },
     "user_tz": -540
    },
    "id": "BZ7mknt6iIRp",
    "outputId": "9c4cc2cc-955f-4add-9747-8a0191e586e2"
   },
   "outputs": [
    {
     "name": "stdout",
     "output_type": "stream",
     "text": [
      "              precision    recall  f1-score   support\n",
      "\n",
      "           0       0.75      0.99      0.85       178\n",
      "           1       0.99      0.87      0.93       446\n",
      "\n",
      "    accuracy                           0.90       624\n",
      "   macro avg       0.87      0.93      0.89       624\n",
      "weighted avg       0.93      0.90      0.91       624\n",
      "\n",
      "accuracy score is 0.9038461538461539\n",
      "f1 score is 0.9282296650717703\n"
     ]
    }
   ],
   "source": [
    "# Adam,ExponentialLR, mixup (alpha = 0.2), batch_size = 8, no class weighting\n",
    "from sklearn.metrics import classification_report\n",
    "from sklearn.metrics import accuracy_score\n",
    "from sklearn.metrics import f1_score\n",
    "print(classification_report(predictions_mean, test_label['normal']))\n",
    "print('accuracy score is ' +str(accuracy_score(test_label['normal'], predictions_mean)))\n",
    "print('f1 score is ' +str(f1_score(test_label['normal'], predictions_mean)))"
   ]
  },
  {
   "cell_type": "code",
   "execution_count": 26,
   "metadata": {
    "colab": {
     "base_uri": "https://localhost:8080/"
    },
    "executionInfo": {
     "elapsed": 1625,
     "status": "ok",
     "timestamp": 1615617597303,
     "user": {
      "displayName": "‍차지수(학부학생/사회과학대학 언론홍보영상학)",
      "photoUrl": "",
      "userId": "01051544767581313229"
     },
     "user_tz": -540
    },
    "id": "RG7P8_3oTloo",
    "outputId": "f3d77658-4ed1-452b-d3ae-49e32b530fba"
   },
   "outputs": [
    {
     "name": "stdout",
     "output_type": "stream",
     "text": [
      "              precision    recall  f1-score   support\n",
      "\n",
      "           0       0.79      0.96      0.86       192\n",
      "           1       0.98      0.88      0.93       432\n",
      "\n",
      "    accuracy                           0.91       624\n",
      "   macro avg       0.88      0.92      0.90       624\n",
      "weighted avg       0.92      0.91      0.91       624\n",
      "\n",
      "accuracy score is 0.907051282051282\n",
      "f1 score is 0.929440389294404\n"
     ]
    }
   ],
   "source": [
    "# Adam,ExponentialLR, mixup (alpha = 0.2), batch_size = 8, no normalize\n",
    "\n",
    "from sklearn.metrics import classification_report\n",
    "from sklearn.metrics import accuracy_score\n",
    "from sklearn.metrics import f1_score\n",
    "print(classification_report(predictions_mean, test_label['normal']))\n",
    "print('accuracy score is ' +str(accuracy_score(test_label['normal'], predictions_mean)))\n",
    "print('f1 score is ' +str(f1_score(test_label['normal'], predictions_mean)))"
   ]
  },
  {
   "cell_type": "code",
   "execution_count": 17,
   "metadata": {
    "colab": {
     "base_uri": "https://localhost:8080/"
    },
    "executionInfo": {
     "elapsed": 1196,
     "status": "ok",
     "timestamp": 1615611864460,
     "user": {
      "displayName": "‍차지수(학부학생/사회과학대학 언론홍보영상학)",
      "photoUrl": "",
      "userId": "01051544767581313229"
     },
     "user_tz": -540
    },
    "id": "rNOnB0fIx_q_",
    "outputId": "ee026ef1-9349-4b7a-f0f3-f2f8d387d712"
   },
   "outputs": [
    {
     "name": "stdout",
     "output_type": "stream",
     "text": [
      "              precision    recall  f1-score   support\n",
      "\n",
      "           0       0.78      0.97      0.87       189\n",
      "           1       0.98      0.88      0.93       435\n",
      "\n",
      "    accuracy                           0.91       624\n",
      "   macro avg       0.88      0.93      0.90       624\n",
      "weighted avg       0.92      0.91      0.91       624\n",
      "\n",
      "accuracy score is 0.9086538461538461\n",
      "f1 score is 0.9309090909090909\n"
     ]
    }
   ],
   "source": [
    "# Adam,ExponentialLR, no mixup, batch_size = 8, no normalize\n",
    "\n",
    "from sklearn.metrics import classification_report\n",
    "from sklearn.metrics import accuracy_score\n",
    "from sklearn.metrics import f1_score\n",
    "print(classification_report(predictions_mean, test_label['normal']))\n",
    "print('accuracy score is ' +str(accuracy_score(test_label['normal'], predictions_mean)))\n",
    "print('f1 score is ' +str(f1_score(test_label['normal'], predictions_mean)))"
   ]
  },
  {
   "cell_type": "code",
   "execution_count": 23,
   "metadata": {
    "colab": {
     "base_uri": "https://localhost:8080/"
    },
    "executionInfo": {
     "elapsed": 920,
     "status": "ok",
     "timestamp": 1615600821571,
     "user": {
      "displayName": "‍차지수(학부학생/사회과학대학 언론홍보영상학)",
      "photoUrl": "",
      "userId": "01051544767581313229"
     },
     "user_tz": -540
    },
    "id": "yVm6tST4HneH",
    "outputId": "97687f1b-0f19-4755-998b-ae988daaa204"
   },
   "outputs": [
    {
     "name": "stdout",
     "output_type": "stream",
     "text": [
      "              precision    recall  f1-score   support\n",
      "\n",
      "           0       0.52      0.99      0.68       122\n",
      "           1       1.00      0.77      0.87       502\n",
      "\n",
      "    accuracy                           0.82       624\n",
      "   macro avg       0.76      0.88      0.78       624\n",
      "weighted avg       0.90      0.82      0.83       624\n",
      "\n",
      "accuracy score is 0.8173076923076923\n",
      "f1 score is 0.8721973094170403\n"
     ]
    }
   ],
   "source": [
    "# Adam,ExponentialLR, no mixup, batch_size = 8, no augmentation\n",
    "\n",
    "from sklearn.metrics import classification_report\n",
    "from sklearn.metrics import accuracy_score\n",
    "from sklearn.metrics import f1_score\n",
    "print(classification_report(predictions_mean, test_label['normal']))\n",
    "print('accuracy score is ' +str(accuracy_score(test_label['normal'], predictions_mean)))\n",
    "print('f1 score is ' +str(f1_score(test_label['normal'], predictions_mean)))"
   ]
  },
  {
   "cell_type": "code",
   "execution_count": 17,
   "metadata": {
    "colab": {
     "base_uri": "https://localhost:8080/"
    },
    "executionInfo": {
     "elapsed": 1135,
     "status": "ok",
     "timestamp": 1615597233814,
     "user": {
      "displayName": "‍차지수(학부학생/사회과학대학 언론홍보영상학)",
      "photoUrl": "",
      "userId": "01051544767581313229"
     },
     "user_tz": -540
    },
    "id": "rVJZckFV5vP1",
    "outputId": "f9591d7c-22fc-439d-9b08-6847d2d0e150"
   },
   "outputs": [
    {
     "name": "stdout",
     "output_type": "stream",
     "text": [
      "              precision    recall  f1-score   support\n",
      "\n",
      "           0       0.65      0.99      0.78       152\n",
      "           1       1.00      0.82      0.90       472\n",
      "\n",
      "    accuracy                           0.87       624\n",
      "   macro avg       0.82      0.91      0.84       624\n",
      "weighted avg       0.91      0.87      0.87       624\n",
      "\n",
      "accuracy score is 0.8653846153846154\n",
      "f1 score is 0.9025522041763341\n"
     ]
    }
   ],
   "source": [
    "# Adam,ExponentialLR, no mixup, batch_size = 8, colorjitter\n",
    "\n",
    "from sklearn.metrics import classification_report\n",
    "from sklearn.metrics import accuracy_score\n",
    "from sklearn.metrics import f1_score\n",
    "print(classification_report(predictions_mean, test_label['normal']))\n",
    "print('accuracy score is ' +str(accuracy_score(test_label['normal'], predictions_mean)))\n",
    "print('f1 score is ' +str(f1_score(test_label['normal'], predictions_mean)))"
   ]
  },
  {
   "cell_type": "code",
   "execution_count": 26,
   "metadata": {
    "colab": {
     "base_uri": "https://localhost:8080/"
    },
    "executionInfo": {
     "elapsed": 712,
     "status": "ok",
     "timestamp": 1615557832063,
     "user": {
      "displayName": "‍차지수(학부학생/사회과학대학 언론홍보영상학)",
      "photoUrl": "",
      "userId": "01051544767581313229"
     },
     "user_tz": -540
    },
    "id": "pIof6U6bv7SB",
    "outputId": "7631bab2-3a0e-41d6-cda0-89a869d5a4de"
   },
   "outputs": [
    {
     "name": "stdout",
     "output_type": "stream",
     "text": [
      "              precision    recall  f1-score   support\n",
      "\n",
      "           0       0.85      0.95      0.90       208\n",
      "           1       0.97      0.91      0.94       416\n",
      "\n",
      "    accuracy                           0.93       624\n",
      "   macro avg       0.91      0.93      0.92       624\n",
      "weighted avg       0.93      0.93      0.93       624\n",
      "\n",
      "accuracy score is 0.9262820512820513\n",
      "f1 score is 0.9429280397022332\n"
     ]
    }
   ],
   "source": [
    "# Adam,ExponentialLR, no mixup, batch_size = 8, resnet50\n",
    "\n",
    "from sklearn.metrics import classification_report\n",
    "from sklearn.metrics import accuracy_score\n",
    "from sklearn.metrics import f1_score\n",
    "print(classification_report(predictions_mean, test_label['normal']))\n",
    "print('accuracy score is ' +str(accuracy_score(test_label['normal'], predictions_mean)))\n",
    "print('f1 score is ' +str(f1_score(test_label['normal'], predictions_mean)))"
   ]
  },
  {
   "cell_type": "code",
   "execution_count": 17,
   "metadata": {
    "colab": {
     "base_uri": "https://localhost:8080/"
    },
    "executionInfo": {
     "elapsed": 693,
     "status": "ok",
     "timestamp": 1615552740619,
     "user": {
      "displayName": "‍차지수(학부학생/사회과학대학 언론홍보영상학)",
      "photoUrl": "",
      "userId": "01051544767581313229"
     },
     "user_tz": -540
    },
    "id": "4_0F6VyGcbxy",
    "outputId": "ab740fc2-1d72-437a-9be0-2245c22cdeb4"
   },
   "outputs": [
    {
     "name": "stdout",
     "output_type": "stream",
     "text": [
      "              precision    recall  f1-score   support\n",
      "\n",
      "           0       0.82      0.99      0.90       195\n",
      "           1       0.99      0.90      0.95       429\n",
      "\n",
      "    accuracy                           0.93       624\n",
      "   macro avg       0.91      0.95      0.92       624\n",
      "weighted avg       0.94      0.93      0.93       624\n",
      "\n",
      "accuracy score is 0.9310897435897436\n",
      "f1 score is 0.9474969474969476\n"
     ]
    }
   ],
   "source": [
    "# Adam,ExponentialLR, no mixup, batch_size = 8\n",
    "\n",
    "from sklearn.metrics import classification_report\n",
    "from sklearn.metrics import accuracy_score\n",
    "from sklearn.metrics import f1_score\n",
    "print(classification_report(predictions_mean, test_label['normal']))\n",
    "print('accuracy score is ' +str(accuracy_score(test_label['normal'], predictions_mean)))\n",
    "print('f1 score is ' +str(f1_score(test_label['normal'], predictions_mean)))"
   ]
  },
  {
   "cell_type": "code",
   "execution_count": null,
   "metadata": {
    "colab": {
     "base_uri": "https://localhost:8080/"
    },
    "executionInfo": {
     "elapsed": 21248,
     "status": "ok",
     "timestamp": 1615539864703,
     "user": {
      "displayName": "‍차지수(학부학생/사회과학대학 언론홍보영상학)",
      "photoUrl": "",
      "userId": "01051544767581313229"
     },
     "user_tz": -540
    },
    "id": "5GqVSJierYx6",
    "outputId": "93de680f-d01a-437d-90ff-4cb43afd31ff"
   },
   "outputs": [
    {
     "name": "stdout",
     "output_type": "stream",
     "text": [
      "              precision    recall  f1-score   support\n",
      "\n",
      "           0       0.78      0.99      0.87       185\n",
      "           1       0.99      0.88      0.94       439\n",
      "\n",
      "    accuracy                           0.92       624\n",
      "   macro avg       0.89      0.94      0.90       624\n",
      "weighted avg       0.93      0.92      0.92       624\n",
      "\n",
      "accuracy score is 0.9150641025641025\n",
      "f1 score is 0.9360675512665863\n"
     ]
    }
   ],
   "source": [
    "# Adam,ExponentialLR, no mixup\n",
    "\n",
    "from sklearn.metrics import classification_report\n",
    "from sklearn.metrics import accuracy_score\n",
    "from sklearn.metrics import f1_score\n",
    "print(classification_report(predictions_mean, test_label['normal']))\n",
    "print('accuracy score is ' +str(accuracy_score(test_label['normal'], predictions_mean)))\n",
    "print('f1 score is ' +str(f1_score(test_label['normal'], predictions_mean)))"
   ]
  },
  {
   "cell_type": "code",
   "execution_count": null,
   "metadata": {
    "colab": {
     "base_uri": "https://localhost:8080/"
    },
    "executionInfo": {
     "elapsed": 851,
     "status": "ok",
     "timestamp": 1615536607413,
     "user": {
      "displayName": "‍차지수(학부학생/사회과학대학 언론홍보영상학)",
      "photoUrl": "",
      "userId": "01051544767581313229"
     },
     "user_tz": -540
    },
    "id": "JpQ7AyHee8PH",
    "outputId": "72d2fe65-633d-41ab-ae60-3cae17057d28"
   },
   "outputs": [
    {
     "name": "stdout",
     "output_type": "stream",
     "text": [
      "              precision    recall  f1-score   support\n",
      "\n",
      "           0       0.62      0.99      0.77       147\n",
      "           1       1.00      0.82      0.90       477\n",
      "\n",
      "    accuracy                           0.86       624\n",
      "   macro avg       0.81      0.90      0.83       624\n",
      "weighted avg       0.91      0.86      0.87       624\n",
      "\n",
      "accuracy score is 0.8573717948717948\n",
      "f1 score is 0.8973471741637833\n"
     ]
    }
   ],
   "source": [
    "# Adam,ExponentialLR, no class weighting\n",
    "\n",
    "from sklearn.metrics import classification_report\n",
    "from sklearn.metrics import accuracy_score\n",
    "from sklearn.metrics import f1_score\n",
    "print(classification_report(predictions_mean, test_label['normal']))\n",
    "print('accuracy score is ' +str(accuracy_score(test_label['normal'], predictions_mean)))\n",
    "print('f1 score is ' +str(f1_score(test_label['normal'], predictions_mean)))"
   ]
  },
  {
   "cell_type": "code",
   "execution_count": null,
   "metadata": {
    "colab": {
     "base_uri": "https://localhost:8080/"
    },
    "executionInfo": {
     "elapsed": 726,
     "status": "ok",
     "timestamp": 1615533356215,
     "user": {
      "displayName": "‍차지수(학부학생/사회과학대학 언론홍보영상학)",
      "photoUrl": "",
      "userId": "01051544767581313229"
     },
     "user_tz": -540
    },
    "id": "pimqIC8RSR-S",
    "outputId": "1f4b5257-54a4-49c7-e140-1b9582c74e42"
   },
   "outputs": [
    {
     "name": "stdout",
     "output_type": "stream",
     "text": [
      "              precision    recall  f1-score   support\n",
      "\n",
      "           0       0.67      0.99      0.80       158\n",
      "           1       1.00      0.83      0.91       466\n",
      "\n",
      "    accuracy                           0.88       624\n",
      "   macro avg       0.83      0.91      0.85       624\n",
      "weighted avg       0.91      0.88      0.88       624\n",
      "\n",
      "accuracy score is 0.875\n",
      "f1 score is 0.9088785046728972\n"
     ]
    }
   ],
   "source": [
    "# Adam,ExponentialLR, batch_size = 32\n",
    "\n",
    "from sklearn.metrics import classification_report\n",
    "from sklearn.metrics import accuracy_score\n",
    "from sklearn.metrics import f1_score\n",
    "print(classification_report(predictions_mean, test_label['normal']))\n",
    "print('accuracy score is ' +str(accuracy_score(test_label['normal'], predictions_mean)))\n",
    "print('f1 score is ' +str(f1_score(test_label['normal'], predictions_mean)))"
   ]
  },
  {
   "cell_type": "code",
   "execution_count": null,
   "metadata": {
    "colab": {
     "base_uri": "https://localhost:8080/"
    },
    "executionInfo": {
     "elapsed": 976,
     "status": "ok",
     "timestamp": 1615530157116,
     "user": {
      "displayName": "‍차지수(학부학생/사회과학대학 언론홍보영상학)",
      "photoUrl": "",
      "userId": "01051544767581313229"
     },
     "user_tz": -540
    },
    "id": "F0Q0k8XSGVh8",
    "outputId": "579957aa-bca4-4282-ae6b-f12c6adc57e4"
   },
   "outputs": [
    {
     "name": "stdout",
     "output_type": "stream",
     "text": [
      "              precision    recall  f1-score   support\n",
      "\n",
      "           0       0.76      0.98      0.86       181\n",
      "           1       0.99      0.87      0.93       443\n",
      "\n",
      "    accuracy                           0.91       624\n",
      "   macro avg       0.88      0.93      0.89       624\n",
      "weighted avg       0.93      0.91      0.91       624\n",
      "\n",
      "accuracy score is 0.905448717948718\n",
      "f1 score is 0.9291716686674669\n"
     ]
    }
   ],
   "source": [
    "# Adam,ExponentialLR\n",
    "\n",
    "from sklearn.metrics import classification_report\n",
    "from sklearn.metrics import accuracy_score\n",
    "from sklearn.metrics import f1_score\n",
    "print(classification_report(predictions_mean, test_label['normal']))\n",
    "print('accuracy score is ' +str(accuracy_score(test_label['normal'], predictions_mean)))\n",
    "print('f1 score is ' +str(f1_score(test_label['normal'], predictions_mean)))"
   ]
  },
  {
   "cell_type": "code",
   "execution_count": null,
   "metadata": {
    "colab": {
     "base_uri": "https://localhost:8080/"
    },
    "executionInfo": {
     "elapsed": 741,
     "status": "ok",
     "timestamp": 1615524701383,
     "user": {
      "displayName": "‍차지수(학부학생/사회과학대학 언론홍보영상학)",
      "photoUrl": "",
      "userId": "01051544767581313229"
     },
     "user_tz": -540
    },
    "id": "VBBbH4ltxfZX",
    "outputId": "ba73d22f-9f0e-447b-9414-ecc732c0d356"
   },
   "outputs": [
    {
     "name": "stdout",
     "output_type": "stream",
     "text": [
      "              precision    recall  f1-score   support\n",
      "\n",
      "           0       0.72      0.98      0.83       171\n",
      "           1       0.99      0.85      0.92       453\n",
      "\n",
      "    accuracy                           0.89       624\n",
      "   macro avg       0.86      0.92      0.87       624\n",
      "weighted avg       0.92      0.89      0.89       624\n",
      "\n",
      "accuracy score is 0.8894230769230769\n",
      "f1 score is 0.9181494661921707\n"
     ]
    }
   ],
   "source": [
    "# SGD,ReducelronPlateau(factor = 0.3)\n",
    "\n",
    "from sklearn.metrics import classification_report\n",
    "from sklearn.metrics import accuracy_score\n",
    "from sklearn.metrics import f1_score\n",
    "print(classification_report(predictions_mean, test_label['normal']))\n",
    "print('accuracy score is ' +str(accuracy_score(test_label['normal'], predictions_mean)))\n",
    "print('f1 score is ' +str(f1_score(test_label['normal'], predictions_mean)))"
   ]
  },
  {
   "cell_type": "code",
   "execution_count": null,
   "metadata": {
    "colab": {
     "base_uri": "https://localhost:8080/"
    },
    "executionInfo": {
     "elapsed": 1004,
     "status": "ok",
     "timestamp": 1615519435206,
     "user": {
      "displayName": "‍차지수(학부학생/사회과학대학 언론홍보영상학)",
      "photoUrl": "",
      "userId": "01051544767581313229"
     },
     "user_tz": -540
    },
    "id": "bczfsSLvdccc",
    "outputId": "32d1650b-476b-4eb3-9fb0-9522d95d7a2f"
   },
   "outputs": [
    {
     "name": "stdout",
     "output_type": "stream",
     "text": [
      "              precision    recall  f1-score   support\n",
      "\n",
      "           0       0.73      0.99      0.84       172\n",
      "           1       0.99      0.86      0.92       452\n",
      "\n",
      "    accuracy                           0.89       624\n",
      "   macro avg       0.86      0.92      0.88       624\n",
      "weighted avg       0.92      0.89      0.90       624\n",
      "\n",
      "accuracy score is 0.8942307692307693\n",
      "f1 score is 0.9216152019002376\n"
     ]
    }
   ],
   "source": [
    "# SGD,ExponentionLR(gamma = 0.99)\n",
    "\n",
    "from sklearn.metrics import classification_report\n",
    "from sklearn.metrics import accuracy_score\n",
    "from sklearn.metrics import f1_score\n",
    "print(classification_report(predictions_mean, test_label['normal']))\n",
    "print('accuracy score is ' +str(accuracy_score(test_label['normal'], predictions_mean)))\n",
    "print('f1 score is ' +str(f1_score(test_label['normal'], predictions_mean)))"
   ]
  },
  {
   "cell_type": "code",
   "execution_count": null,
   "metadata": {
    "colab": {
     "base_uri": "https://localhost:8080/"
    },
    "executionInfo": {
     "elapsed": 732,
     "status": "ok",
     "timestamp": 1615516210362,
     "user": {
      "displayName": "‍차지수(학부학생/사회과학대학 언론홍보영상학)",
      "photoUrl": "",
      "userId": "01051544767581313229"
     },
     "user_tz": -540
    },
    "id": "ceSFH3azRJAE",
    "outputId": "bb880d44-d688-477b-fd54-417beb59bb56"
   },
   "outputs": [
    {
     "name": "stdout",
     "output_type": "stream",
     "text": [
      "              precision    recall  f1-score   support\n",
      "\n",
      "           0       0.73      0.98      0.84       174\n",
      "           1       0.99      0.86      0.92       450\n",
      "\n",
      "    accuracy                           0.89       624\n",
      "   macro avg       0.86      0.92      0.88       624\n",
      "weighted avg       0.92      0.89      0.90       624\n",
      "\n",
      "accuracy score is 0.8942307692307693\n",
      "f1 score is 0.9214285714285715\n"
     ]
    }
   ],
   "source": [
    "# SGD,ExponentionLR(gamma = 0.8)\n",
    "\n",
    "from sklearn.metrics import classification_report\n",
    "from sklearn.metrics import accuracy_score\n",
    "from sklearn.metrics import f1_score\n",
    "print(classification_report(predictions_mean, test_label['normal']))\n",
    "print('accuracy score is ' +str(accuracy_score(test_label['normal'], predictions_mean)))\n",
    "print('f1 score is ' +str(f1_score(test_label['normal'], predictions_mean)))"
   ]
  },
  {
   "cell_type": "code",
   "execution_count": null,
   "metadata": {
    "colab": {
     "base_uri": "https://localhost:8080/"
    },
    "executionInfo": {
     "elapsed": 821,
     "status": "ok",
     "timestamp": 1615512911415,
     "user": {
      "displayName": "‍차지수(학부학생/사회과학대학 언론홍보영상학)",
      "photoUrl": "",
      "userId": "01051544767581313229"
     },
     "user_tz": -540
    },
    "id": "MuUXCqoZLgP0",
    "outputId": "abfe42a6-7e3e-4cb2-8733-b8b33d05eeda"
   },
   "outputs": [
    {
     "name": "stdout",
     "output_type": "stream",
     "text": [
      "              precision    recall  f1-score   support\n",
      "\n",
      "           0       0.69      0.99      0.81       164\n",
      "           1       0.99      0.84      0.91       460\n",
      "\n",
      "    accuracy                           0.88       624\n",
      "   macro avg       0.84      0.92      0.86       624\n",
      "weighted avg       0.92      0.88      0.89       624\n",
      "\n",
      "accuracy score is 0.8814102564102564\n",
      "f1 score is 0.9129411764705883\n"
     ]
    }
   ],
   "source": [
    "# SGD,StepLR\n",
    "\n",
    "from sklearn.metrics import classification_report\n",
    "from sklearn.metrics import accuracy_score\n",
    "from sklearn.metrics import f1_score\n",
    "print(classification_report(predictions_mean, test_label['normal']))\n",
    "print('accuracy score is ' +str(accuracy_score(test_label['normal'], predictions_mean)))\n",
    "print('f1 score is ' +str(f1_score(test_label['normal'], predictions_mean)))"
   ]
  },
  {
   "cell_type": "code",
   "execution_count": null,
   "metadata": {
    "id": "uq2ywJa_2II_"
   },
   "outputs": [],
   "source": []
  }
 ],
 "metadata": {
  "accelerator": "GPU",
  "colab": {
   "collapsed_sections": [],
   "machine_shape": "hm",
   "name": "chestxray_effnet_2.ipynb",
   "provenance": []
  },
  "kernelspec": {
   "display_name": "Python 3",
   "language": "python",
   "name": "python3"
  },
  "language_info": {
   "codemirror_mode": {
    "name": "ipython",
    "version": 3
   },
   "file_extension": ".py",
   "mimetype": "text/x-python",
   "name": "python",
   "nbconvert_exporter": "python",
   "pygments_lexer": "ipython3",
   "version": "3.8.5"
  }
 },
 "nbformat": 4,
 "nbformat_minor": 1
}
